{
 "cells": [
  {
   "cell_type": "markdown",
   "metadata": {},
   "source": [
    "# Actividad 1 Curso MLIP 2020\n",
    "\n",
    "A continuación, se listarán ejercicios similares a los vistos en la clase 1 para que sean resueltos y entregados en Google Classroom."
   ]
  },
  {
   "cell_type": "markdown",
   "metadata": {
    "colab_type": "text",
    "id": "wWqGBb9bL2qH"
   },
   "source": [
    "## Ejercicio 1: Tipo de datos\n",
    "\n",
    "a) Asignar un valor de cada tipo a 3 variables (ej: la variable *a* sea un valor \"string\", la variable *b* un valor \"int\" y la *c* un valor \"float\")\n",
    "\n",
    "b) Luego verificar los tipos de variable usando datos booleanos (\"boolean\"), por ejemplo:\n",
    "\n",
    "`print(type(a) == \"string\")`\n",
    "\n",
    "debería imprimir True si *a* fuese \"string\" o False si fuese \"float\" o \"int\"\n",
    "\n",
    "**Nota:** Recordar que para que una variable sea de un tipo debe asignarse un valor que lo declare automáticamente (ej: a = \"hola\" hace que *a* sea string) o forzarlo con el comando (ej: a = str(2) hace que *a* sea string aunque el 2 sea un entero)\n",
    "\n"
   ]
  },
  {
   "cell_type": "code",
   "execution_count": 1,
   "metadata": {
    "colab": {},
    "colab_type": "code",
    "executionInfo": {
     "elapsed": 651,
     "status": "ok",
     "timestamp": 1598372761170,
     "user": {
      "displayName": "Juanma López",
      "photoUrl": "https://lh3.googleusercontent.com/a-/AOh14Ggum8MWbU6cekwSb0FaxpVuLfMnlHuo_AFy1Y7vLQ=s64",
      "userId": "06697444655803170726"
     },
     "user_tz": 180
    },
    "id": "TQGvAdFLKm5q"
   },
   "outputs": [
    {
     "name": "stdout",
     "output_type": "stream",
     "text": [
      "<class 'str'>\n",
      "<class 'int'>\n",
      "<class 'float'>\n"
     ]
    }
   ],
   "source": [
    "# ESCRIBA AQUÍ EL CÓDIGO. UTILICE TANTAS CELDAS COMO SEA NECESARIO.\n",
    "\n",
    "a = \"Soy un string\"\n",
    "b = 2\n",
    "c = 3.444\n",
    "\n",
    "print(type(a))\n",
    "print(type(b))\n",
    "print(type(c))"
   ]
  },
  {
   "cell_type": "markdown",
   "metadata": {
    "colab_type": "text",
    "id": "ywWutwXYcPBe"
   },
   "source": [
    "## Ejercicio 2:  Librería Numpy, Arreglos, Vectores\n",
    "\n",
    "a) Defina y muestre un vector *s* que empiece en 1, su paso sea igual a 4 y no supere el 27\n",
    "\n",
    "b) Muestre el sexto y el último lugar de *s*\n",
    "\n",
    "c) Genere un vector *r* desde el segundo elemento al 5\n",
    "\n",
    "d) Muestre el vector de los cuadrados de cada elemento de *r*. Asignele el nombre *q*\n",
    "\n",
    "e) Muestre el vector de cada elemento del anterior elevado a un exponente igual a dicho elemento. Asignele el nombre *t*"
   ]
  },
  {
   "cell_type": "code",
   "execution_count": 87,
   "metadata": {
    "colab": {},
    "colab_type": "code",
    "executionInfo": {
     "elapsed": 802,
     "status": "ok",
     "timestamp": 1598373425060,
     "user": {
      "displayName": "Juanma López",
      "photoUrl": "https://lh3.googleusercontent.com/a-/AOh14Ggum8MWbU6cekwSb0FaxpVuLfMnlHuo_AFy1Y7vLQ=s64",
      "userId": "06697444655803170726"
     },
     "user_tz": 180
    },
    "id": "MwPtGTercMry"
   },
   "outputs": [
    {
     "name": "stdout",
     "output_type": "stream",
     "text": [
      "vector [ 1  5  9 13 17 21 25]\n",
      "sexto elemento 21\n",
      "Ultimo elemento 25\n",
      "[ 5  9 13]\n",
      "[ 25  81 169]\n",
      "[ 1296002393 -1090846383 -1536775191]\n"
     ]
    }
   ],
   "source": [
    "# ESCRIBA AQUÍ EL CÓDIGO. UTILICE TANTAS CELDAS COMO SEA NECESARIO.\n",
    "import numpy as np\n",
    "\n",
    "# a) Defina y muestre un vector s que empiece en 1, su paso sea igual a 4 y no supere el 27\n",
    "s = np.arange(1,27,4)\n",
    "print(\"vector\", s)\n",
    "# b) Muestre el sexto y el último lugar de s\n",
    "print(\"sexto elemento\", s[5])\n",
    "print(\"Ultimo elemento\", s[-1])\n",
    "# c) Genere un vector r desde el segundo elemento al 5\n",
    "r = s[1:4]\n",
    "print(r)\n",
    "# d) Muestre el vector de los cuadrados de cada elemento de r. Asignele el nombre q\n",
    "q = r*r\n",
    "print(q)\n",
    "# e) Muestre el vector de cada elemento del anterior elevado a un exponente igual a dicho elemento. Asignele el nombre t\n",
    "t = q**q\n",
    "print(t)"
   ]
  },
  {
   "cell_type": "markdown",
   "metadata": {
    "colab_type": "text",
    "id": "Zua7CODQebI5"
   },
   "source": [
    "## Ejercicio 3: Gráficos en Matplotlib\n",
    "\n",
    "Genere dos gráficos. Uno para el vector *s* del **Ejercicio 2** y otro donde ubique los vectores *r*, *q* y *t* diferenciandolos por color y tipo de línea como mejor lo considere. Asignele títulos acorde a cada uno de los gráficos."
   ]
  },
  {
   "cell_type": "code",
   "execution_count": 88,
   "metadata": {
    "colab": {},
    "colab_type": "code",
    "executionInfo": {
     "elapsed": 640,
     "status": "ok",
     "timestamp": 1598373941761,
     "user": {
      "displayName": "Juanma López",
      "photoUrl": "https://lh3.googleusercontent.com/a-/AOh14Ggum8MWbU6cekwSb0FaxpVuLfMnlHuo_AFy1Y7vLQ=s64",
      "userId": "06697444655803170726"
     },
     "user_tz": 180
    },
    "id": "d9a0cKQseaSD",
    "scrolled": true
   },
   "outputs": [
    {
     "data": {
      "image/png": "[encoded data removed]",
      "text/plain": [
       "<Figure size 432x288 with 1 Axes>"
      ]
     },
     "metadata": {
      "needs_background": "light"
     },
     "output_type": "display_data"
    }
   ],
   "source": [
    "# ESCRIBA AQUÍ EL CÓDIGO. UTILICE TANTAS CELDAS COMO SEA NECESARIO.\n",
    "import matplotlib.pyplot as plt\n",
    "plt.plot(s)\n",
    "plt.gca().legend('s')\n",
    "plt.show()"
   ]
  },
  {
   "cell_type": "code",
   "execution_count": 89,
   "metadata": {},
   "outputs": [
    {
     "data": {
      "image/png": "[encoded data removed]",
      "text/plain": [
       "<Figure size 432x288 with 1 Axes>"
      ]
     },
     "metadata": {
      "needs_background": "light"
     },
     "output_type": "display_data"
    }
   ],
   "source": [
    "#plt.figure(figsize=(7,7))\n",
    "plt.plot(r,'gs', q ,'r.',t ,'b:')\n",
    "plt.gca().legend(('r','q', 't'))\n",
    "plt.show()"
   ]
  },
  {
   "cell_type": "markdown",
   "metadata": {
    "colab_type": "text",
    "id": "Zua7CODQebI5"
   },
   "source": [
    "## Ejercicio 4: Trabajo en clase\n",
    "\n",
    "Transcriba la consigna y resolución de alguno de los ejercicios propuestos y realizados en clase"
   ]
  },
  {
   "cell_type": "code",
   "execution_count": 90,
   "metadata": {
    "colab": {},
    "colab_type": "code",
    "executionInfo": {
     "elapsed": 640,
     "status": "ok",
     "timestamp": 1598373941761,
     "user": {
      "displayName": "Juanma López",
      "photoUrl": "https://lh3.googleusercontent.com/a-/AOh14Ggum8MWbU6cekwSb0FaxpVuLfMnlHuo_AFy1Y7vLQ=s64",
      "userId": "06697444655803170726"
     },
     "user_tz": 180
    },
    "id": "d9a0cKQseaSD"
   },
   "outputs": [],
   "source": [
    "# ESCRIBA AQUÍ EL CÓDIGO. UTILICE TANTAS CELDAS COMO SEA NECESARIO."
   ]
  },
  {
   "cell_type": "markdown",
   "metadata": {},
   "source": [
    "Ejercicio\n",
    "\n",
    "Defina una matriz de unos de dimensión 3x2.\n",
    "\n",
    "Multiplique la primera fila por 3.\n",
    "\n",
    "Multiplique la última fila por 2.\n",
    "\n",
    "Muestre la matriz obtenida y su traspuesta."
   ]
  },
  {
   "cell_type": "code",
   "execution_count": 146,
   "metadata": {},
   "outputs": [
    {
     "name": "stdout",
     "output_type": "stream",
     "text": [
      "matriz \r\n",
      " [[1 2]\n",
      " [3 4]\n",
      " [5 6]]\n",
      "\n",
      "\n",
      "primera fila multiplicada por 3 \r\n",
      " [[3 6]\n",
      " [3 4]\n",
      " [5 6]]\n",
      "\n",
      "ultima fila multiplicada por 2 \r\n",
      " [[ 3  6]\n",
      " [ 3  4]\n",
      " [10 12]]\n",
      "\n",
      "Traspuesta\n",
      "[[ 3  3 10]\n",
      " [ 6  4 12]]\n"
     ]
    }
   ],
   "source": [
    "matriz = np.array([[1,2], [3,4], [5,6]])\n",
    "print(\"matriz \\r\\n\", matriz)\n",
    "print()\n",
    "matriz[0,:] *=3\n",
    "print()\n",
    "print(\"primera fila multiplicada por 3 \\r\\n\",matriz)\n",
    "matriz[-1,:] *=2\n",
    "print()\n",
    "print(\"ultima fila multiplicada por 2 \\r\\n\", matriz)\n",
    "print()\n",
    "print(\"Traspuesta\")\n",
    "print(matriz.T)"
   ]
  },
  {
   "cell_type": "markdown",
   "metadata": {
    "colab_type": "text",
    "id": "c-_Vq2AZgt7b"
   },
   "source": [
    "## Ejercicio 5 (Opcional): Estructuras *for* e *if*\n",
    "\n",
    "a) Solicite al usuario el ingreso de un valor numérico que sea entero y positivo.\n",
    "b) Verifique que dicho valor cumpla las condiciones mencionadas (entero y positivo) con un condicional if (puede incluir la impresión de un mensaje que aclare el error que se pueda cometer)\n",
    "\n",
    "c) Si el valor cumple las condiciones, utilizar un bucle for para imprimir el mensaje \"Hola\" tantas veces como el valor ingresado lo indique."
   ]
  },
  {
   "cell_type": "code",
   "execution_count": 75,
   "metadata": {
    "colab": {},
    "colab_type": "code",
    "id": "EzcSrv15gs7n"
   },
   "outputs": [
    {
     "name": "stdout",
     "output_type": "stream",
     "text": [
      "Ingrese un numero: 3\n",
      "Hola\n",
      "Hola\n",
      "Hola\n"
     ]
    }
   ],
   "source": [
    "# ESCRIBA AQUÍ EL CÓDIGO. UTILICE TANTAS CELDAS COMO SEA NECESARIO.\n",
    "\n",
    "posible_numero = input('Ingrese un numero: ')\n",
    "numero = int(posible_numero)\n",
    "if(type(numero)==int):\n",
    "    for index in range(numero):\n",
    "        print('Hola')\n",
    "else:\n",
    "    print('Solo puedes ingresar numeros enteros')"
   ]
  },
  {
   "cell_type": "code",
   "execution_count": 64,
   "metadata": {},
   "outputs": [
    {
     "name": "stdout",
     "output_type": "stream",
     "text": [
      "Ingrese un numero9.00\n",
      "Solo puedes ingresar numeros enteros\n"
     ]
    }
   ],
   "source": [
    "try:\n",
    "    numero = int(input('Ingrese un numero: '))\n",
    "    for numero in range(numero):\n",
    "        print('Hola')\n",
    "except ValueError:\n",
    "    print('Solo puedes ingresar numeros enteros')"
   ]
  },
  {
   "cell_type": "code",
   "execution_count": null,
   "metadata": {},
   "outputs": [],
   "source": []
  },
  {
   "cell_type": "code",
   "execution_count": null,
   "metadata": {},
   "outputs": [],
   "source": []
  }
 ],
 "metadata": {
  "colab": {
   "authorship_tag": "ABX9TyOp3n5+IdVm4uRrmo5dsQJ4",
   "name": "Ntb1_Actividades.ipynb",
   "provenance": []
  },
  "kernelspec": {
   "display_name": "Python 3",
   "language": "python",
   "name": "python3"
  },
  "language_info": {
   "codemirror_mode": {
    "name": "ipython",
    "version": 3
   },
   "file_extension": ".py",
   "mimetype": "text/x-python",
   "name": "python",
   "nbconvert_exporter": "python",
   "pygments_lexer": "ipython3",
   "version": "3.8.5"
  }
 },
 "nbformat": 4,
 "nbformat_minor": 4
}
