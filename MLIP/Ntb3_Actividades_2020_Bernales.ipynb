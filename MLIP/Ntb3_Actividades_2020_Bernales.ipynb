{
 "cells": [
  {
   "cell_type": "markdown",
   "metadata": {},
   "source": [
    "# Machine Learning e Imágenes en Python\n",
    "\n",
    "## Actividad 3"
   ]
  },
  {
   "cell_type": "markdown",
   "metadata": {},
   "source": [
    "### Mejora de Imagen e Histograma"
   ]
  },
  {
   "cell_type": "markdown",
   "metadata": {},
   "source": [
    "Cargar en la notebook utilizando la librería OpenCV una imagen de manera monocroma y luego:\n",
    "\n",
    "* Oscurecer la imagen y almacenarla en otra nueva variable.\n",
    "* Aclarar la imagen y almacenarla en otra nueva variable.\n",
    "* Aumentar el contraste de la imagen utilizando la ecualización del histograma.\n",
    "* Mostrar los 4 histogramas de la imagen y aplicar brevemente la naturaleza de cada uno."
   ]
  },
  {
   "cell_type": "code",
   "execution_count": 1,
   "metadata": {},
   "outputs": [],
   "source": [
    "### UTILIZAR TANTAS CELDAS DE CÓDIGO COMO SEA NECESARIO"
   ]
  },
  {
   "cell_type": "markdown",
   "metadata": {},
   "source": [
    "### Transformaciones"
   ]
  },
  {
   "cell_type": "markdown",
   "metadata": {},
   "source": [
    "Cargue una imagen de a elección y realice lo siguiente:\n",
    "\n",
    "* Cambie la escala de la imagen cargada por una que sea mayor, y luego por una que sea menor. Almacene las imágenes en nuevas variables, muéstrelas e imprima sus dimensiones con el atributo \".shape\".\n",
    "* Rote la imagen utilizando los ángulos 30, 45 y 90. Almacene y muestre las nuevas imágenes rotadas. ¿Sufrieron algún cambio los píxeles de alguna de las imágenes? ¿Por qué?"
   ]
  },
  {
   "cell_type": "code",
   "execution_count": 1,
   "metadata": {},
   "outputs": [],
   "source": [
    "### UTILIZAR TANTAS CELDAS DE CÓDIGO COMO SEA NECESARIO"
   ]
  },
  {
   "cell_type": "markdown",
   "metadata": {},
   "source": [
    "### Filtros"
   ]
  },
  {
   "cell_type": "markdown",
   "metadata": {},
   "source": [
    "Cargue una imagen a elección y realice lo siguiente:\n",
    "\n",
    "* Aplíquele un filtro gaussiano utilizando la librería OpenCV y muestre la imagen filtrada. Explique lo que sucede al aplicar dicho filtro.\n",
    "\n",
    "* Aplíquele un filtro Sobel utilizando la librería OpenCV y muestre la imagen filtrada. Explique brevemente lo que sucede al aplicar dicho filtro. Muestre los bordes horizontales y verticales, por separado, de la imagen aplicándole previamente el valor absoluto. ¿Cuál sería la diferencia si deseo utilizar un filtro de Laplace en lugar de Sobel?"
   ]
  },
  {
   "cell_type": "code",
   "execution_count": 1,
   "metadata": {},
   "outputs": [],
   "source": [
    "### UTILIZAR TANTAS CELDAS DE CÓDIGO COMO SEA NECESARIO"
   ]
  }
 ],
 "metadata": {
  "kernelspec": {
   "display_name": "Python 3",
   "language": "python",
   "name": "python3"
  },
  "language_info": {
   "codemirror_mode": {
    "name": "ipython",
    "version": 3
   },
   "file_extension": ".py",
   "mimetype": "text/x-python",
   "name": "python",
   "nbconvert_exporter": "python",
   "pygments_lexer": "ipython3",
   "version": "3.8.3"
  }
 },
 "nbformat": 4,
 "nbformat_minor": 4
}
