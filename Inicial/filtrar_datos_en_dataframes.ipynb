{
 "cells": [
  {
   "cell_type": "code",
   "execution_count": 1,
   "metadata": {},
   "outputs": [],
   "source": [
    "import pandas as pd\n",
    "import numpy as np"
   ]
  },
  {
   "cell_type": "code",
   "execution_count": 3,
   "metadata": {},
   "outputs": [
    {
     "data": {
      "text/plain": [
       "array([[0.2838038 , 0.56612371, 0.86637481],\n",
       "       [0.6617409 , 0.18362274, 0.62296598],\n",
       "       [0.31391104, 0.85297839, 0.40564361],\n",
       "       [0.44496122, 0.19394916, 0.37750739],\n",
       "       [0.87050068, 0.21558146, 0.12813685],\n",
       "       [0.73837077, 0.74671304, 0.28198029],\n",
       "       [0.67405252, 0.97093717, 0.0548281 ],\n",
       "       [0.98985741, 0.24197175, 0.93198223],\n",
       "       [0.96200871, 0.83859538, 0.8800483 ],\n",
       "       [0.41360218, 0.07694848, 0.66424911]])"
      ]
     },
     "execution_count": 3,
     "metadata": {},
     "output_type": "execute_result"
    }
   ],
   "source": [
    "valores = np.random.rand(10,3) # 10 filas por tres columnas\n",
    "valores"
   ]
  },
  {
   "cell_type": "code",
   "execution_count": 4,
   "metadata": {},
   "outputs": [
    {
     "data": {
      "text/html": [
       "<div>\n",
       "<style scoped>\n",
       "    .dataframe tbody tr th:only-of-type {\n",
       "        vertical-align: middle;\n",
       "    }\n",
       "\n",
       "    .dataframe tbody tr th {\n",
       "        vertical-align: top;\n",
       "    }\n",
       "\n",
       "    .dataframe thead th {\n",
       "        text-align: right;\n",
       "    }\n",
       "</style>\n",
       "<table border=\"1\" class=\"dataframe\">\n",
       "  <thead>\n",
       "    <tr style=\"text-align: right;\">\n",
       "      <th></th>\n",
       "      <th>0</th>\n",
       "      <th>1</th>\n",
       "      <th>2</th>\n",
       "    </tr>\n",
       "  </thead>\n",
       "  <tbody>\n",
       "    <tr>\n",
       "      <th>0</th>\n",
       "      <td>0.283804</td>\n",
       "      <td>0.566124</td>\n",
       "      <td>0.866375</td>\n",
       "    </tr>\n",
       "    <tr>\n",
       "      <th>1</th>\n",
       "      <td>0.661741</td>\n",
       "      <td>0.183623</td>\n",
       "      <td>0.622966</td>\n",
       "    </tr>\n",
       "    <tr>\n",
       "      <th>2</th>\n",
       "      <td>0.313911</td>\n",
       "      <td>0.852978</td>\n",
       "      <td>0.405644</td>\n",
       "    </tr>\n",
       "    <tr>\n",
       "      <th>3</th>\n",
       "      <td>0.444961</td>\n",
       "      <td>0.193949</td>\n",
       "      <td>0.377507</td>\n",
       "    </tr>\n",
       "    <tr>\n",
       "      <th>4</th>\n",
       "      <td>0.870501</td>\n",
       "      <td>0.215581</td>\n",
       "      <td>0.128137</td>\n",
       "    </tr>\n",
       "    <tr>\n",
       "      <th>5</th>\n",
       "      <td>0.738371</td>\n",
       "      <td>0.746713</td>\n",
       "      <td>0.281980</td>\n",
       "    </tr>\n",
       "    <tr>\n",
       "      <th>6</th>\n",
       "      <td>0.674053</td>\n",
       "      <td>0.970937</td>\n",
       "      <td>0.054828</td>\n",
       "    </tr>\n",
       "    <tr>\n",
       "      <th>7</th>\n",
       "      <td>0.989857</td>\n",
       "      <td>0.241972</td>\n",
       "      <td>0.931982</td>\n",
       "    </tr>\n",
       "    <tr>\n",
       "      <th>8</th>\n",
       "      <td>0.962009</td>\n",
       "      <td>0.838595</td>\n",
       "      <td>0.880048</td>\n",
       "    </tr>\n",
       "    <tr>\n",
       "      <th>9</th>\n",
       "      <td>0.413602</td>\n",
       "      <td>0.076948</td>\n",
       "      <td>0.664249</td>\n",
       "    </tr>\n",
       "  </tbody>\n",
       "</table>\n",
       "</div>"
      ],
      "text/plain": [
       "          0         1         2\n",
       "0  0.283804  0.566124  0.866375\n",
       "1  0.661741  0.183623  0.622966\n",
       "2  0.313911  0.852978  0.405644\n",
       "3  0.444961  0.193949  0.377507\n",
       "4  0.870501  0.215581  0.128137\n",
       "5  0.738371  0.746713  0.281980\n",
       "6  0.674053  0.970937  0.054828\n",
       "7  0.989857  0.241972  0.931982\n",
       "8  0.962009  0.838595  0.880048\n",
       "9  0.413602  0.076948  0.664249"
      ]
     },
     "execution_count": 4,
     "metadata": {},
     "output_type": "execute_result"
    }
   ],
   "source": [
    "dataframe = pd.DataFrame(valores)\n",
    "dataframe"
   ]
  },
  {
   "cell_type": "code",
   "execution_count": 6,
   "metadata": {},
   "outputs": [
    {
     "data": {
      "text/plain": [
       "0    0.283804\n",
       "1    0.661741\n",
       "2    0.313911\n",
       "3    0.444961\n",
       "4    0.870501\n",
       "5    0.738371\n",
       "6    0.674053\n",
       "7    0.989857\n",
       "8    0.962009\n",
       "9    0.413602\n",
       "Name: 0, dtype: float64"
      ]
     },
     "execution_count": 6,
     "metadata": {},
     "output_type": "execute_result"
    }
   ],
   "source": [
    "columna = dataframe[0]\n",
    "columna"
   ]
  },
  {
   "cell_type": "code",
   "execution_count": 7,
   "metadata": {},
   "outputs": [
    {
     "data": {
      "text/plain": [
       "1    0.661741\n",
       "3    0.444961\n",
       "4    0.870501\n",
       "5    0.738371\n",
       "6    0.674053\n",
       "7    0.989857\n",
       "8    0.962009\n",
       "9    0.413602\n",
       "Name: 0, dtype: float64"
      ]
     },
     "execution_count": 7,
     "metadata": {},
     "output_type": "execute_result"
    }
   ],
   "source": [
    "columna[columna > 0.40]"
   ]
  },
  {
   "cell_type": "code",
   "execution_count": 8,
   "metadata": {},
   "outputs": [
    {
     "data": {
      "text/html": [
       "<div>\n",
       "<style scoped>\n",
       "    .dataframe tbody tr th:only-of-type {\n",
       "        vertical-align: middle;\n",
       "    }\n",
       "\n",
       "    .dataframe tbody tr th {\n",
       "        vertical-align: top;\n",
       "    }\n",
       "\n",
       "    .dataframe thead th {\n",
       "        text-align: right;\n",
       "    }\n",
       "</style>\n",
       "<table border=\"1\" class=\"dataframe\">\n",
       "  <thead>\n",
       "    <tr style=\"text-align: right;\">\n",
       "      <th></th>\n",
       "      <th>0</th>\n",
       "      <th>1</th>\n",
       "      <th>2</th>\n",
       "    </tr>\n",
       "  </thead>\n",
       "  <tbody>\n",
       "    <tr>\n",
       "      <th>0</th>\n",
       "      <td>NaN</td>\n",
       "      <td>0.566124</td>\n",
       "      <td>0.866375</td>\n",
       "    </tr>\n",
       "    <tr>\n",
       "      <th>1</th>\n",
       "      <td>0.661741</td>\n",
       "      <td>NaN</td>\n",
       "      <td>0.622966</td>\n",
       "    </tr>\n",
       "    <tr>\n",
       "      <th>2</th>\n",
       "      <td>NaN</td>\n",
       "      <td>0.852978</td>\n",
       "      <td>0.405644</td>\n",
       "    </tr>\n",
       "    <tr>\n",
       "      <th>3</th>\n",
       "      <td>0.444961</td>\n",
       "      <td>NaN</td>\n",
       "      <td>NaN</td>\n",
       "    </tr>\n",
       "    <tr>\n",
       "      <th>4</th>\n",
       "      <td>0.870501</td>\n",
       "      <td>NaN</td>\n",
       "      <td>NaN</td>\n",
       "    </tr>\n",
       "    <tr>\n",
       "      <th>5</th>\n",
       "      <td>0.738371</td>\n",
       "      <td>0.746713</td>\n",
       "      <td>NaN</td>\n",
       "    </tr>\n",
       "    <tr>\n",
       "      <th>6</th>\n",
       "      <td>0.674053</td>\n",
       "      <td>0.970937</td>\n",
       "      <td>NaN</td>\n",
       "    </tr>\n",
       "    <tr>\n",
       "      <th>7</th>\n",
       "      <td>0.989857</td>\n",
       "      <td>NaN</td>\n",
       "      <td>0.931982</td>\n",
       "    </tr>\n",
       "    <tr>\n",
       "      <th>8</th>\n",
       "      <td>0.962009</td>\n",
       "      <td>0.838595</td>\n",
       "      <td>0.880048</td>\n",
       "    </tr>\n",
       "    <tr>\n",
       "      <th>9</th>\n",
       "      <td>0.413602</td>\n",
       "      <td>NaN</td>\n",
       "      <td>0.664249</td>\n",
       "    </tr>\n",
       "  </tbody>\n",
       "</table>\n",
       "</div>"
      ],
      "text/plain": [
       "          0         1         2\n",
       "0       NaN  0.566124  0.866375\n",
       "1  0.661741       NaN  0.622966\n",
       "2       NaN  0.852978  0.405644\n",
       "3  0.444961       NaN       NaN\n",
       "4  0.870501       NaN       NaN\n",
       "5  0.738371  0.746713       NaN\n",
       "6  0.674053  0.970937       NaN\n",
       "7  0.989857       NaN  0.931982\n",
       "8  0.962009  0.838595  0.880048\n",
       "9  0.413602       NaN  0.664249"
      ]
     },
     "execution_count": 8,
     "metadata": {},
     "output_type": "execute_result"
    }
   ],
   "source": [
    "dataframe[dataframe > 0.40]"
   ]
  },
  {
   "cell_type": "code",
   "execution_count": null,
   "metadata": {},
   "outputs": [],
   "source": []
  }
 ],
 "metadata": {
  "kernelspec": {
   "display_name": "Python 3",
   "language": "python",
   "name": "python3"
  },
  "language_info": {
   "codemirror_mode": {
    "name": "ipython",
    "version": 3
   },
   "file_extension": ".py",
   "mimetype": "text/x-python",
   "name": "python",
   "nbconvert_exporter": "python",
   "pygments_lexer": "ipython3",
   "version": "3.8.3"
  }
 },
 "nbformat": 4,
 "nbformat_minor": 4
}
