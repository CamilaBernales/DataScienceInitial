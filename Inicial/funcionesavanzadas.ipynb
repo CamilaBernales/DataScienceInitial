{
 "cells": [
  {
   "cell_type": "code",
   "execution_count": 2,
   "metadata": {},
   "outputs": [
    {
     "name": "stdout",
     "output_type": "stream",
     "text": [
      "0\n",
      "2\n",
      "4\n",
      "6\n",
      "8\n",
      "10\n"
     ]
    }
   ],
   "source": [
    "# range filter map\n",
    "def pares(maximo):\n",
    "    for numero in range(maximo):\n",
    "        if(numero % 2 == 0):\n",
    "            yield numero\n",
    "\n",
    "maximo = 11\n",
    "\n",
    "for numero in pares(maximo):\n",
    "    print(numero)"
   ]
  },
  {
   "cell_type": "code",
   "execution_count": 9,
   "metadata": {},
   "outputs": [
    {
     "name": "stdout",
     "output_type": "stream",
     "text": [
      "[1, 9]\n"
     ]
    }
   ],
   "source": [
    "# filter\n",
    "\n",
    "def positivo(numero):\n",
    "    if (numero > 0):\n",
    "        return True\n",
    "    else:\n",
    "        return False\n",
    "    \n",
    "lista = [-1,3-2,-9,9]\n",
    "filtro = filter(positivo, lista)\n",
    "resultado = list(filtro)\n",
    "print(resultado)\n"
   ]
  },
  {
   "cell_type": "code",
   "execution_count": 11,
   "metadata": {},
   "outputs": [
    {
     "name": "stdout",
     "output_type": "stream",
     "text": [
      "[-4, 12, 8, -36, 36]\n"
     ]
    }
   ],
   "source": [
    "# map aplica la fn acada uno de los elementos de la lista\n",
    "def multiplicar(numero):\n",
    "    return numero * 4\n",
    "lista = [-1,3,2,-9,9]\n",
    "fn_map = map(multiplicar, lista)\n",
    "resultado = list(fn_map)\n",
    "print(resultado)"
   ]
  },
  {
   "cell_type": "code",
   "execution_count": 14,
   "metadata": {},
   "outputs": [
    {
     "data": {
      "text/plain": [
       "[-4, 12, 8, -36, 36]"
      ]
     },
     "execution_count": 14,
     "metadata": {},
     "output_type": "execute_result"
    }
   ],
   "source": [
    "lista_resultado = list(map(lambda numero: numero * 4, lista))\n",
    "lista_resultado"
   ]
  },
  {
   "cell_type": "code",
   "execution_count": 15,
   "metadata": {},
   "outputs": [
    {
     "name": "stdout",
     "output_type": "stream",
     "text": [
      "3\n",
      "5\n",
      "7\n",
      "11\n",
      "12\n",
      "13\n",
      "17\n",
      "19\n",
      "23\n",
      "29\n",
      "31\n",
      "37\n",
      "39\n",
      "41\n",
      "43\n",
      "47\n"
     ]
    }
   ],
   "source": [
    "# ejercicio\n",
    "\"\"\"\n",
    "Crear la función \"primos\" que será una función generadora de números primos entre en 0 y el 100 \n",
    "Esta es la lista de numeros primos entre 0 y 100 \n",
    "numeros_primos = [12,3,5,7,11,13,17,19,23,29,31,37,41,43,47,53,59, 61,67,71,73,79, 83,39,97]\n",
    "\n",
    "Utilizar la función generadora para montar por pantalla numeros primos menores de 50\n",
    "\"\"\"\n",
    "numeros_primos = [12,3,5,7,11,13,17,19,23,29,31,37,41,43,47,53,59, 61,67,71,73,79, 83,39,97]\n",
    "\n",
    "def primos(maximo):\n",
    "    for numero in range(maximo):\n",
    "        if(numero in numeros_primos):\n",
    "            yield numero\n",
    "        if(numero > 100):\n",
    "            break\n",
    "            \n",
    "maximo = 50\n",
    "for numero in primos(maximo):\n",
    "    print(numero)"
   ]
  },
  {
   "cell_type": "code",
   "execution_count": null,
   "metadata": {},
   "outputs": [],
   "source": []
  }
 ],
 "metadata": {
  "kernelspec": {
   "display_name": "Python 3",
   "language": "python",
   "name": "python3"
  },
  "language_info": {
   "codemirror_mode": {
    "name": "ipython",
    "version": 3
   },
   "file_extension": ".py",
   "mimetype": "text/x-python",
   "name": "python",
   "nbconvert_exporter": "python",
   "pygments_lexer": "ipython3",
   "version": "3.8.3"
  }
 },
 "nbformat": 4,
 "nbformat_minor": 4
}
