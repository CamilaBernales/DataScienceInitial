{
 "cells": [
  {
   "cell_type": "code",
   "execution_count": 4,
   "metadata": {},
   "outputs": [],
   "source": [
    "\"\"\"import sqlite3 \n",
    "conexion = sqlite3.connect(\"basededatos1.db\")\n",
    "conexion.close()\"\"\""
   ]
  },
  {
   "cell_type": "code",
   "execution_count": 13,
   "metadata": {},
   "outputs": [],
   "source": [
    "# crear una tabla\n",
    "\"\"\"import sqlite3 \n",
    "conexion = sqlite3.connect(\"basededatos1.db\")\n",
    "cursor = conexion.cursor()\n",
    "cursor.execute(\"CREATE TABLE prueba (nombre TEXT, apellido TEXT, edad INTEGER)\")\n",
    "conexion.commit()\n",
    "conexion.close()\"\"\""
   ]
  },
  {
   "cell_type": "code",
   "execution_count": 17,
   "metadata": {},
   "outputs": [],
   "source": [
    "# insertar una fila en la bd\n",
    "\"\"\"import sqlite3 \n",
    "conexion = sqlite3.connect(\"basededatos1.db\")\n",
    "cursor = conexion.cursor()\n",
    "cursor.execute(\"INSERT INTO prueba VALUES ('ANTONIO','BERNALES',23)\")\n",
    "conexion.commit()\n",
    "conexion.close()\"\"\""
   ]
  },
  {
   "cell_type": "code",
   "execution_count": 19,
   "metadata": {},
   "outputs": [],
   "source": [
    "\"\"\"# insertar varias finlas\n",
    "import sqlite3 \n",
    "conexion = sqlite3.connect(\"basededatos1.db\")\n",
    "cursor = conexion.cursor()\n",
    "lista_personas = [('ana', 'jorrat', 21), ('enzo', 'politi' ,23), ('Camila', 'Martinez', 89)]\n",
    "cursor.executemany(\"INSERT INTO prueba VALUES (?,?,?)\", lista_personas)\n",
    "conexion.commit()\n",
    "conexion.close()\"\"\"\n"
   ]
  },
  {
   "cell_type": "code",
   "execution_count": 2,
   "metadata": {},
   "outputs": [
    {
     "name": "stdout",
     "output_type": "stream",
     "text": [
      "('ANTONIO', 'BERNALES', 23)\n",
      "('ANTONIO', 'BERNALES', 23)\n",
      "('ANTONIO', 'BERNALES', 23)\n",
      "('ana', 'jorrat', 21)\n",
      "('enzo', 'politi', 23)\n",
      "('Camila', 'Martinez', 89)\n"
     ]
    }
   ],
   "source": [
    "\"\"\"# consultar datos\n",
    "import sqlite3 \n",
    "conexion = sqlite3.connect(\"basededatos1.db\")\n",
    "cursor = conexion.cursor()\n",
    "cursor.execute(\"SELECT * FROM prueba\")\n",
    "personas = cursor.fetchall()\n",
    "for persona in personas:\n",
    "    print(persona)\n",
    "conexion.close()\"\"\""
   ]
  },
  {
   "cell_type": "code",
   "execution_count": 7,
   "metadata": {},
   "outputs": [
    {
     "name": "stdout",
     "output_type": "stream",
     "text": [
      "('ANTONIO', 'BERNALES', 23)\n",
      "('ANTONIO', 'BERNALES', 23)\n",
      "('ANTONIO', 'BERNALES', 23)\n",
      "('ana', 'jorrat', 21)\n",
      "('enzo', 'politi', 23)\n"
     ]
    }
   ],
   "source": [
    "\"\"\"# consultar datos\n",
    "import sqlite3 \n",
    "conexion = sqlite3.connect(\"basededatos1.db\")\n",
    "cursor = conexion.cursor()\n",
    "cursor.execute(\"SELECT * FROM prueba WHERE edad < 70\")\n",
    "personas = cursor.fetchall()\n",
    "for persona in personas:\n",
    "    print(persona)\n",
    "conexion.close()\"\"\""
   ]
  },
  {
   "cell_type": "code",
   "execution_count": 11,
   "metadata": {},
   "outputs": [
    {
     "name": "stdout",
     "output_type": "stream",
     "text": [
      "('ana', 'jorrat', 21)\n",
      "('ANTONIO', 'BERNALES', 23)\n",
      "('ANTONIO', 'BERNALES', 23)\n",
      "('ANTONIO', 'BERNALES', 23)\n",
      "('enzo', 'politi', 23)\n",
      "('Camila', 'Martinez', 89)\n"
     ]
    }
   ],
   "source": [
    "\"\"\"# ordenar datos\n",
    "import sqlite3 \n",
    "conexion = sqlite3.connect(\"basededatos1.db\")\n",
    "cursor = conexion.cursor()\n",
    "cursor.execute(\"SELECT * FROM prueba ORDER BY edad\") # imprime de menor a mayor\n",
    "personas = cursor.fetchall()\n",
    "for persona in personas:\n",
    "    print(persona)\n",
    "conexion.close()\"\"\""
   ]
  },
  {
   "cell_type": "code",
   "execution_count": 14,
   "metadata": {},
   "outputs": [],
   "source": [
    "\"\"\"# borrar datos\n",
    "import sqlite3 \n",
    "conexion = sqlite3.connect(\"basededatos1.db\")\n",
    "cursor = conexion.cursor()\n",
    "cursor.execute(\"DELETE FROM prueba WHERE edad = 23\") # imprime de menor a mayor\n",
    "conexion.commit()\n",
    "conexion.close()\"\"\""
   ]
  },
  {
   "cell_type": "code",
   "execution_count": 17,
   "metadata": {},
   "outputs": [],
   "source": [
    "\"\"\"# actualizar datos\n",
    "import sqlite3 \n",
    "conexion = sqlite3.connect(\"basededatos1.db\")\n",
    "cursor = conexion.cursor()\n",
    "cursor.execute(\"UPDATE prueba SET nombre = 'maria paster' WHERE edad = 89 \") # imprime de menor a mayor\n",
    "conexion.commit()\n",
    "conexion.close()\"\"\""
   ]
  },
  {
   "cell_type": "code",
   "execution_count": 18,
   "metadata": {},
   "outputs": [
    {
     "data": {
      "text/plain": [
       "'\\ncrear basededatos.db\\nid: identificador del producto tipo numerico\\nnombre: nombre del producto de tipo texto\\nprecio: precio del producto\\n\\ninsertar 3 productos en la tabla productos\\n1, \"Impresora\", 300\\n2, \"Mouse\", 20\\n3, \"Ordenador\", 1000\\nconsultar los productos de la tabla productos\\ncerrar bd \\n'"
      ]
     },
     "execution_count": 18,
     "metadata": {},
     "output_type": "execute_result"
    }
   ],
   "source": [
    "# ejercicio\n",
    "\"\"\"\n",
    "crear basededatos.db\n",
    "id: identificador del producto tipo numerico\n",
    "nombre: nombre del producto de tipo texto\n",
    "precio: precio del producto\n",
    "\n",
    "insertar 3 productos en la tabla productos\n",
    "1, \"Impresora\", 300\n",
    "2, \"Mouse\", 20\n",
    "3, \"Ordenador\", 1000\n",
    "consultar los productos de la tabla productos\n",
    "cerrar bd \n",
    "\"\"\""
   ]
  },
  {
   "cell_type": "code",
   "execution_count": 26,
   "metadata": {},
   "outputs": [
    {
     "name": "stdout",
     "output_type": "stream",
     "text": [
      "(1, 'Impresora', 300)\n",
      "(2, 'mouse', 20)\n",
      "(3, 'ordenador', 1000)\n",
      "(1, 'Impresora', 300)\n",
      "(2, 'mouse', 20)\n",
      "(3, 'ordenador', 1000)\n"
     ]
    }
   ],
   "source": [
    "import sqlite3\n",
    "conexion = sqlite3.connect(\"basededatos.bd\")\n",
    "cursor = conexion.cursor()\n",
    "\"\"\"cursor.execute(\"CREATE TABLE productos (id INTEGER, nombre TEXT, precio INTEGER)\")\n",
    "conexion.commit()\"\"\"\n",
    "lista_productos = [(1, 'Impresora', 300), (2, 'mouse', 20),(3, 'ordenador', 1000)]\n",
    "cursor.executemany(\"INSERT INTO productos VALUES (?,?,?)\", lista_productos)\n",
    "conexion.commit()\n",
    "cursor.execute(\"SELECT * from productos\")\n",
    "productos = cursor.fetchall()\n",
    "for producto in productos:\n",
    "    print(producto)\n",
    "conexion.close()"
   ]
  },
  {
   "cell_type": "code",
   "execution_count": null,
   "metadata": {},
   "outputs": [],
   "source": [
    "\n"
   ]
  }
 ],
 "metadata": {
  "kernelspec": {
   "display_name": "Python 3",
   "language": "python",
   "name": "python3"
  },
  "language_info": {
   "codemirror_mode": {
    "name": "ipython",
    "version": 3
   },
   "file_extension": ".py",
   "mimetype": "text/x-python",
   "name": "python",
   "nbconvert_exporter": "python",
   "pygments_lexer": "ipython3",
   "version": "3.8.3"
  }
 },
 "nbformat": 4,
 "nbformat_minor": 4
}
