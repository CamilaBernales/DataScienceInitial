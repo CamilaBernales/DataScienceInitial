{
 "cells": [
  {
   "cell_type": "code",
   "execution_count": 7,
   "metadata": {},
   "outputs": [
    {
     "name": "stdout",
     "output_type": "stream",
     "text": [
      "manzana apple\n",
      "naranja orange\n",
      "platano banana\n",
      "limon lemon\n",
      "piña pineapple\n"
     ]
    }
   ],
   "source": [
    "# Ejercicio 1\n",
    "\"\"\"\n",
    "crear un diccionario con los sig valores:\n",
    "manzana, apple\n",
    "naranja, orange\n",
    "platano, banana\n",
    "limon, lemon\n",
    "\n",
    "Mostrar la traduccion de la palabra naranaj y añada un \n",
    "elemento a la lista piña: pineapple\n",
    "haz un bucle para mostrar los elementos del dicc\n",
    "\"\"\"\n",
    "\n",
    "dicc_frutas = {\n",
    "    \"manzana\" : \"apple\",\n",
    "    \"naranja\" : \"orange\",\n",
    "    \"platano\" : \"banana\",\n",
    "    \"limon\" : \"lemon\"\n",
    "}\n",
    "\n",
    "dicc_frutas[\"naranja\"]\n",
    "dicc_frutas[\"piña\"] = \"pineapple\"\n",
    "dicc_frutas\n",
    "\n",
    "for fruta,traduccion in dicc_frutas.items(): \n",
    "    print(fruta,traduccion)"
   ]
  },
  {
   "cell_type": "code",
   "execution_count": 10,
   "metadata": {},
   "outputs": [
    {
     "data": {
      "text/plain": [
       "'aprobado'"
      ]
     },
     "execution_count": 10,
     "metadata": {},
     "output_type": "execute_result"
    }
   ],
   "source": [
    "# ejercicio 2\n",
    "\"\"\"\n",
    "crear variable nota = 4.5\n",
    "crear variable trabajo_realizado = \"si\"\n",
    "calcular el valor de la variable nota_final, teniendo en cuenta\n",
    "que, si la nota_final es mayor o igual a 4 y el valor de la varibale\n",
    "\"trabajo_realizado\" es igual a \"si\", entonces nota_final sera igual a \"aprobaod\"\n",
    "en caos contrario sera igual a \"suspenso\"\n",
    "\"\"\"\n",
    "nota = 4.5\n",
    "trabajo_realizado = \"si\"\n",
    "if(nota >= 4) and (trabajo_realizado == \"si\"):\n",
    "    nota_final = \"aprobado\"\n",
    "else:\n",
    "    nota_final = \"suspenso\"\n",
    "nota_final\n",
    "\n"
   ]
  }
 ],
 "metadata": {
  "kernelspec": {
   "display_name": "Python 3",
   "language": "python",
   "name": "python3"
  },
  "language_info": {
   "codemirror_mode": {
    "name": "ipython",
    "version": 3
   },
   "file_extension": ".py",
   "mimetype": "text/x-python",
   "name": "python",
   "nbconvert_exporter": "python",
   "pygments_lexer": "ipython3",
   "version": "3.8.3"
  }
 },
 "nbformat": 4,
 "nbformat_minor": 4
}
