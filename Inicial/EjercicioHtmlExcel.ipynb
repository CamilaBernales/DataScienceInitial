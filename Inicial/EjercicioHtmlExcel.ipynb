{
 "cells": [
  {
   "cell_type": "code",
   "execution_count": null,
   "metadata": {},
   "outputs": [],
   "source": [
    "# ejercicio\n",
    "\n",
    "Leer el fichero adjunto \"poblacion.xlsx\" y cargar los datos en un dataframe\n",
    "con esos datos, visualizar cual es la cidudad msa poblada en america\n",
    "\n",
    "Leer el fichero adjunto \"poblacion.csv\" y cargas los datos en un dataframe \n",
    "con estos datos, visualizar cual es la ciudad mas poblada de Africa"
   ]
  },
  {
   "cell_type": "code",
   "execution_count": 1,
   "metadata": {},
   "outputs": [],
   "source": [
    "import pandas as pd"
   ]
  },
  {
   "cell_type": "code",
   "execution_count": 5,
   "metadata": {},
   "outputs": [],
   "source": [
    "excel  = pd.ExcelFile('/Users/Camila Bernales/Documents/datascience/udemyCourse/archivos/poblacion.xlsx')"
   ]
  },
  {
   "cell_type": "code",
   "execution_count": 7,
   "metadata": {},
   "outputs": [],
   "source": [
    "dataframe = excel.parse('Hoja 1')"
   ]
  },
  {
   "cell_type": "code",
   "execution_count": 8,
   "metadata": {},
   "outputs": [
    {
     "data": {
      "text/html": [
       "<div>\n",
       "<style scoped>\n",
       "    .dataframe tbody tr th:only-of-type {\n",
       "        vertical-align: middle;\n",
       "    }\n",
       "\n",
       "    .dataframe tbody tr th {\n",
       "        vertical-align: top;\n",
       "    }\n",
       "\n",
       "    .dataframe thead th {\n",
       "        text-align: right;\n",
       "    }\n",
       "</style>\n",
       "<table border=\"1\" class=\"dataframe\">\n",
       "  <thead>\n",
       "    <tr style=\"text-align: right;\">\n",
       "      <th></th>\n",
       "      <th>Continente</th>\n",
       "      <th>Densidad</th>\n",
       "      <th>Superficie</th>\n",
       "      <th>Población</th>\n",
       "      <th>País más poblado</th>\n",
       "      <th>Ciudad más poblada</th>\n",
       "    </tr>\n",
       "  </thead>\n",
       "  <tbody>\n",
       "    <tr>\n",
       "      <th>0</th>\n",
       "      <td>Asia</td>\n",
       "      <td>86.88</td>\n",
       "      <td>43810000</td>\n",
       "      <td>4677291000</td>\n",
       "      <td>China (1.392.240.000)</td>\n",
       "      <td>Tokio (35.682.000)</td>\n",
       "    </tr>\n",
       "    <tr>\n",
       "      <th>1</th>\n",
       "      <td>África</td>\n",
       "      <td>32.70</td>\n",
       "      <td>30370000</td>\n",
       "      <td>1110020000</td>\n",
       "      <td>Nigeria (191.205.000)</td>\n",
       "      <td>El Cairo (16.794.000)</td>\n",
       "    </tr>\n",
       "    <tr>\n",
       "      <th>2</th>\n",
       "      <td>Europa</td>\n",
       "      <td>70.00</td>\n",
       "      <td>10180000</td>\n",
       "      <td>801000000</td>\n",
       "      <td>Rusia (112.000.000)</td>\n",
       "      <td>Moscú (18.940.000)</td>\n",
       "    </tr>\n",
       "    <tr>\n",
       "      <th>3</th>\n",
       "      <td>América</td>\n",
       "      <td>23.50</td>\n",
       "      <td>42330000</td>\n",
       "      <td>1094215000</td>\n",
       "      <td>Estados Unidos (330.028.000)</td>\n",
       "      <td>Ciudad de México (22.577.000)</td>\n",
       "    </tr>\n",
       "    <tr>\n",
       "      <th>4</th>\n",
       "      <td>Oceanía</td>\n",
       "      <td>4.25</td>\n",
       "      <td>9008500</td>\n",
       "      <td>40201000</td>\n",
       "      <td>Australia (27.240.000)</td>\n",
       "      <td>Sídney (6.550.000)</td>\n",
       "    </tr>\n",
       "  </tbody>\n",
       "</table>\n",
       "</div>"
      ],
      "text/plain": [
       "  Continente  Densidad  Superficie   Población              País más poblado  \\\n",
       "0       Asia     86.88    43810000  4677291000         China (1.392.240.000)   \n",
       "1     África     32.70    30370000  1110020000         Nigeria (191.205.000)   \n",
       "2     Europa     70.00    10180000   801000000           Rusia (112.000.000)   \n",
       "3    América     23.50    42330000  1094215000  Estados Unidos (330.028.000)   \n",
       "4    Oceanía      4.25     9008500    40201000        Australia (27.240.000)   \n",
       "\n",
       "              Ciudad más poblada  \n",
       "0             Tokio (35.682.000)  \n",
       "1          El Cairo (16.794.000)  \n",
       "2             Moscú (18.940.000)  \n",
       "3  Ciudad de México (22.577.000)  \n",
       "4             Sídney (6.550.000)  "
      ]
     },
     "execution_count": 8,
     "metadata": {},
     "output_type": "execute_result"
    }
   ],
   "source": [
    "dataframe"
   ]
  },
  {
   "cell_type": "code",
   "execution_count": 9,
   "metadata": {},
   "outputs": [
    {
     "data": {
      "text/plain": [
       "'Ciudad de México (22.577.000)'"
      ]
     },
     "execution_count": 9,
     "metadata": {},
     "output_type": "execute_result"
    }
   ],
   "source": [
    "dataframe['Ciudad más poblada'][3]"
   ]
  },
  {
   "cell_type": "code",
   "execution_count": 10,
   "metadata": {},
   "outputs": [],
   "source": [
    "fichero_cvs = pd.read_csv('/Users/Camila Bernales/Documents/datascience/udemyCourse/archivos/poblacion.csv')"
   ]
  },
  {
   "cell_type": "code",
   "execution_count": 11,
   "metadata": {},
   "outputs": [
    {
     "data": {
      "text/html": [
       "<div>\n",
       "<style scoped>\n",
       "    .dataframe tbody tr th:only-of-type {\n",
       "        vertical-align: middle;\n",
       "    }\n",
       "\n",
       "    .dataframe tbody tr th {\n",
       "        vertical-align: top;\n",
       "    }\n",
       "\n",
       "    .dataframe thead th {\n",
       "        text-align: right;\n",
       "    }\n",
       "</style>\n",
       "<table border=\"1\" class=\"dataframe\">\n",
       "  <thead>\n",
       "    <tr style=\"text-align: right;\">\n",
       "      <th></th>\n",
       "      <th>Continente</th>\n",
       "      <th>Densidad</th>\n",
       "      <th>Superficie</th>\n",
       "      <th>Población</th>\n",
       "      <th>País más poblado</th>\n",
       "      <th>Ciudad más poblada</th>\n",
       "    </tr>\n",
       "  </thead>\n",
       "  <tbody>\n",
       "    <tr>\n",
       "      <th>0</th>\n",
       "      <td>Asia</td>\n",
       "      <td>86,88</td>\n",
       "      <td>43.810.000</td>\n",
       "      <td>4.677.291.000</td>\n",
       "      <td>China (1.392.240.000)</td>\n",
       "      <td>Tokio (35.682.000)</td>\n",
       "    </tr>\n",
       "    <tr>\n",
       "      <th>1</th>\n",
       "      <td>África</td>\n",
       "      <td>32,7</td>\n",
       "      <td>30.370.000</td>\n",
       "      <td>1.110.020.000</td>\n",
       "      <td>Nigeria (191.205.000)</td>\n",
       "      <td>El Cairo (16.794.000)</td>\n",
       "    </tr>\n",
       "    <tr>\n",
       "      <th>2</th>\n",
       "      <td>Europa</td>\n",
       "      <td>70</td>\n",
       "      <td>10.180.000</td>\n",
       "      <td>801.000.000</td>\n",
       "      <td>Rusia (112.000.000)</td>\n",
       "      <td>Moscú (18.940.000)</td>\n",
       "    </tr>\n",
       "    <tr>\n",
       "      <th>3</th>\n",
       "      <td>América</td>\n",
       "      <td>23,5</td>\n",
       "      <td>42.330.000</td>\n",
       "      <td>1.094.215.000</td>\n",
       "      <td>Estados Unidos (330.028.000)</td>\n",
       "      <td>Ciudad de México (22.577.000)</td>\n",
       "    </tr>\n",
       "    <tr>\n",
       "      <th>4</th>\n",
       "      <td>Oceanía</td>\n",
       "      <td>4,25</td>\n",
       "      <td>9.008.500</td>\n",
       "      <td>40.201.000</td>\n",
       "      <td>Australia (27.240.000)</td>\n",
       "      <td>Sídney (6.550.000)</td>\n",
       "    </tr>\n",
       "  </tbody>\n",
       "</table>\n",
       "</div>"
      ],
      "text/plain": [
       "  Continente Densidad  Superficie      Población  \\\n",
       "0       Asia    86,88  43.810.000  4.677.291.000   \n",
       "1     África     32,7  30.370.000  1.110.020.000   \n",
       "2     Europa       70  10.180.000    801.000.000   \n",
       "3    América     23,5  42.330.000  1.094.215.000   \n",
       "4    Oceanía     4,25   9.008.500     40.201.000   \n",
       "\n",
       "               País más poblado             Ciudad más poblada  \n",
       "0         China (1.392.240.000)             Tokio (35.682.000)  \n",
       "1         Nigeria (191.205.000)          El Cairo (16.794.000)  \n",
       "2           Rusia (112.000.000)             Moscú (18.940.000)  \n",
       "3  Estados Unidos (330.028.000)  Ciudad de México (22.577.000)  \n",
       "4        Australia (27.240.000)             Sídney (6.550.000)  "
      ]
     },
     "execution_count": 11,
     "metadata": {},
     "output_type": "execute_result"
    }
   ],
   "source": [
    "fichero_cvs"
   ]
  },
  {
   "cell_type": "code",
   "execution_count": 12,
   "metadata": {},
   "outputs": [
    {
     "data": {
      "text/plain": [
       "'El Cairo (16.794.000)'"
      ]
     },
     "execution_count": 12,
     "metadata": {},
     "output_type": "execute_result"
    }
   ],
   "source": [
    "fichero_cvs['Ciudad más poblada'][1]"
   ]
  },
  {
   "cell_type": "code",
   "execution_count": null,
   "metadata": {},
   "outputs": [],
   "source": []
  }
 ],
 "metadata": {
  "kernelspec": {
   "display_name": "Python 3",
   "language": "python",
   "name": "python3"
  },
  "language_info": {
   "codemirror_mode": {
    "name": "ipython",
    "version": 3
   },
   "file_extension": ".py",
   "mimetype": "text/x-python",
   "name": "python",
   "nbconvert_exporter": "python",
   "pygments_lexer": "ipython3",
   "version": "3.8.3"
  }
 },
 "nbformat": 4,
 "nbformat_minor": 4
}
