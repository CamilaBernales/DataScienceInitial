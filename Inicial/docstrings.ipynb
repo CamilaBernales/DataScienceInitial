{
 "cells": [
  {
   "cell_type": "code",
   "execution_count": 2,
   "metadata": {},
   "outputs": [
    {
     "name": "stdout",
     "output_type": "stream",
     "text": [
      "Buenas camila\n"
     ]
    }
   ],
   "source": [
    "def saludar(nombre):\n",
    "    \"\"\"\n",
    "    este sera un comentario de la funcion saludar\n",
    "    esta fn recibira commo parametro una cadena con el nombre e\n",
    "    imprimira por pantalla un saldo con el nombre concatenado\n",
    "    \"\"\"\n",
    "    print(\"Buenas \" + nombre)\n",
    "    \n",
    "saludar(\"camila\")"
   ]
  },
  {
   "cell_type": "code",
   "execution_count": 3,
   "metadata": {},
   "outputs": [
    {
     "name": "stdout",
     "output_type": "stream",
     "text": [
      "Help on function saludar in module __main__:\n",
      "\n",
      "saludar(nombre)\n",
      "    este sera un comentario de la funcion saludar\n",
      "    esta fn recibira commo parametro una cadena con el nombre e\n",
      "    imprimira por pantalla un saldo con el nombre concatenado\n",
      "\n"
     ]
    }
   ],
   "source": [
    "help(saludar) # muestra la documentacion de la fn "
   ]
  },
  {
   "cell_type": "code",
   "execution_count": 6,
   "metadata": {},
   "outputs": [
    {
     "name": "stdout",
     "output_type": "stream",
     "text": [
      "Buenos dias Cami G\n",
      "adios Cami g\n",
      "Help on class Saludos in module __main__:\n",
      "\n",
      "class Saludos(builtins.object)\n",
      " |  esta clase tendra dos funciones que seran buenos_dias y adios\n",
      " |  ambas funciones recibiran como parametro un nombre\n",
      " |  \n",
      " |  Methods defined here:\n",
      " |  \n",
      " |  adios(self, nombre)\n",
      " |  \n",
      " |  buenos_dias(self, nombre)\n",
      " |      esta fn sirve para decir buenos dias a una persona\n",
      " |  \n",
      " |  ----------------------------------------------------------------------\n",
      " |  Data descriptors defined here:\n",
      " |  \n",
      " |  __dict__\n",
      " |      dictionary for instance variables (if defined)\n",
      " |  \n",
      " |  __weakref__\n",
      " |      list of weak references to the object (if defined)\n",
      "\n"
     ]
    }
   ],
   "source": [
    "class Saludos:\n",
    "    \"\"\"\n",
    "    esta clase tendra dos funciones que seran buenos_dias y adios\n",
    "    ambas funciones recibiran como parametro un nombre\n",
    "    \"\"\"\n",
    "    def buenos_dias(self, nombre):\n",
    "        \"\"\"\n",
    "        esta fn sirve para decir buenos dias a una persona\n",
    "        \"\"\"\n",
    "        print(\"Buenos dias \" +  nombre)\n",
    "    def adios(self, nombre):\n",
    "        print(\"adios {}\".format(nombre))\n",
    "\n",
    "saludo = Saludos()\n",
    "saludo.buenos_dias(\"Cami G\")\n",
    "saludo.adios(\"Cami g\")\n",
    "help(Saludos)"
   ]
  },
  {
   "cell_type": "code",
   "execution_count": null,
   "metadata": {},
   "outputs": [],
   "source": []
  }
 ],
 "metadata": {
  "kernelspec": {
   "display_name": "Python 3",
   "language": "python",
   "name": "python3"
  },
  "language_info": {
   "codemirror_mode": {
    "name": "ipython",
    "version": 3
   },
   "file_extension": ".py",
   "mimetype": "text/x-python",
   "name": "python",
   "nbconvert_exporter": "python",
   "pygments_lexer": "ipython3",
   "version": "3.8.3"
  }
 },
 "nbformat": 4,
 "nbformat_minor": 4
}
