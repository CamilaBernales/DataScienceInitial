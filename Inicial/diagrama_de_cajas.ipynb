{
 "cells": [
  {
   "cell_type": "code",
   "execution_count": 1,
   "metadata": {},
   "outputs": [],
   "source": [
    "# diagrama de cajas => sirve para representar graficamente una seire de datos numericos a traves de sus cuartiles"
   ]
  },
  {
   "cell_type": "code",
   "execution_count": 3,
   "metadata": {},
   "outputs": [],
   "source": [
    "import pandas as pd\n",
    "import numpy as np\n",
    "import matplotlib as mpl\n",
    "import seaborn as sns\n",
    "%matplotlib inline"
   ]
  },
  {
   "cell_type": "code",
   "execution_count": 5,
   "metadata": {},
   "outputs": [
    {
     "data": {
      "text/plain": [
       "array([ 1.00771191e+00,  7.22633613e-01,  1.04056996e-01,  5.08058890e-02,\n",
       "        1.01507150e+00, -9.15505599e-02,  1.36769364e-01,  6.19523291e-01,\n",
       "       -1.01482890e+00,  3.05929411e-01, -2.47976807e-01,  3.96840864e-01,\n",
       "       -1.88618401e+00, -1.08731208e+00,  6.28344594e-01,  1.96314487e+00,\n",
       "       -1.36944125e+00,  1.24897849e+00, -1.07971183e-01,  2.33563470e+00,\n",
       "       -7.64053140e-01, -9.16904629e-01,  5.86467590e-01, -3.75633160e-01,\n",
       "       -9.14163578e-02, -8.57052846e-01, -5.62295590e-01, -1.08004092e+00,\n",
       "       -3.20288989e-01,  1.31666247e+00, -2.01430579e-03, -4.19906619e-01,\n",
       "       -8.36391257e-01, -8.67808194e-01,  1.01093317e+00,  6.19209460e-02,\n",
       "       -6.34040016e-01,  1.10067764e+00, -2.19360478e-01, -5.55219666e-01,\n",
       "        7.86515772e-01, -2.63326045e-01,  1.41032651e-02,  9.56477690e-01,\n",
       "        7.23640631e-01, -8.55338096e-01, -7.45546561e-01,  2.40896235e+00,\n",
       "        6.59983571e-01,  2.23596524e+00,  5.37308203e-01, -1.17402242e-01,\n",
       "       -1.98224382e-01, -9.70239701e-01, -1.41538085e+00,  1.46692586e-03,\n",
       "        1.73882462e-01,  4.01344705e-01,  7.59507176e-01,  8.22169295e-01,\n",
       "        9.09208216e-01,  4.91546317e-01, -5.65802681e-01,  4.91835723e-01,\n",
       "        4.14689483e-02,  2.40494045e+00, -6.38639829e-01,  2.25543752e-01,\n",
       "       -3.53553412e-01,  1.13284222e+00,  1.37378173e+00, -5.17751687e-01,\n",
       "        1.06717465e+00,  6.24622312e-01,  7.57596394e-02,  1.80041423e-01,\n",
       "       -2.74088478e-01,  6.78539098e-01,  3.98003759e-01, -8.56096524e-01,\n",
       "       -2.61488947e-02, -8.46934425e-01,  1.20416771e+00,  1.16924683e+00,\n",
       "        6.09814304e-01,  1.03689031e+00, -2.90608927e-02, -1.26380183e+00,\n",
       "       -5.47459442e-01,  1.35475061e+00, -6.72636472e-01,  5.67240920e-01,\n",
       "        2.11353723e+00,  6.91631811e-01, -1.64545122e+00, -7.92403210e-02,\n",
       "        5.15483949e-03, -5.48016204e-01,  1.27552280e+00,  2.42074913e-01])"
      ]
     },
     "execution_count": 5,
     "metadata": {},
     "output_type": "execute_result"
    }
   ],
   "source": [
    "datos = np.random.randn(100)\n",
    "datos"
   ]
  },
  {
   "cell_type": "code",
   "execution_count": 6,
   "metadata": {},
   "outputs": [
    {
     "data": {
      "text/plain": [
       "<matplotlib.axes._subplots.AxesSubplot at 0x1cb9dec73a0>"
      ]
     },
     "execution_count": 6,
     "metadata": {},
     "output_type": "execute_result"
    },
    {
     "data": {
      "image/png": "[encoded data removed]",
      "text/plain": [
       "<Figure size 432x288 with 1 Axes>"
      ]
     },
     "metadata": {
      "needs_background": "light"
     },
     "output_type": "display_data"
    }
   ],
   "source": [
    "sns.boxplot(datos)"
   ]
  },
  {
   "cell_type": "code",
   "execution_count": null,
   "metadata": {},
   "outputs": [],
   "source": []
  },
  {
   "cell_type": "code",
   "execution_count": null,
   "metadata": {},
   "outputs": [],
   "source": []
  },
  {
   "cell_type": "code",
   "execution_count": null,
   "metadata": {},
   "outputs": [],
   "source": []
  },
  {
   "cell_type": "code",
   "execution_count": null,
   "metadata": {},
   "outputs": [],
   "source": []
  },
  {
   "cell_type": "code",
   "execution_count": null,
   "metadata": {},
   "outputs": [],
   "source": []
  }
 ],
 "metadata": {
  "kernelspec": {
   "display_name": "Python 3",
   "language": "python",
   "name": "python3"
  },
  "language_info": {
   "codemirror_mode": {
    "name": "ipython",
    "version": 3
   },
   "file_extension": ".py",
   "mimetype": "text/x-python",
   "name": "python",
   "nbconvert_exporter": "python",
   "pygments_lexer": "ipython3",
   "version": "3.8.3"
  }
 },
 "nbformat": 4,
 "nbformat_minor": 4
}
