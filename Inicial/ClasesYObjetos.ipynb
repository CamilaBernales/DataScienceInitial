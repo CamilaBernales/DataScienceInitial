 {
 "cells": [
  {
   "cell_type": "code",
   "execution_count": 21,
   "metadata": {},
   "outputs": [],
   "source": [
    "# clases y objetos POO \n",
    "\n",
    "class ClaseSilla:\n",
    "    color = \"blanco\"\n",
    "    precio = 100"
   ]
  },
  {
   "cell_type": "code",
   "execution_count": 23,
   "metadata": {},
   "outputs": [
    {
     "data": {
      "text/plain": [
       "'blanco'"
      ]
     },
     "execution_count": 23,
     "metadata": {},
     "output_type": "execute_result"
    }
   ],
   "source": [
    "objSilla1 = ClaseSilla() # la clase silla es el contrusctor y al invocar al contructor tenemos le objeto\n",
    "objSilla1.color\n"
   ]
  },
  {
   "cell_type": "code",
   "execution_count": 29,
   "metadata": {},
   "outputs": [
    {
     "data": {
      "text/plain": [
       "'verde'"
      ]
     },
     "execution_count": 29,
     "metadata": {},
     "output_type": "execute_result"
    }
   ],
   "source": [
    "obj_silla2 = ClaseSilla()\n",
    "obj_silla2.color = \"verde\"\n",
    "obj_silla2.precio = 200\n",
    "obj_silla2.color\n"
   ]
  },
  {
   "cell_type": "code",
   "execution_count": 30,
   "metadata": {},
   "outputs": [
    {
     "data": {
      "text/plain": [
       "200"
      ]
     },
     "execution_count": 30,
     "metadata": {},
     "output_type": "execute_result"
    }
   ],
   "source": [
    "obj_silla2.precio"
   ]
  },
  {
   "cell_type": "code",
   "execution_count": 74,
   "metadata": {},
   "outputs": [],
   "source": [
    "class Persona:\n",
    "    def __init__(self,nombre,edad):\n",
    "        self.nombre = nombre\n",
    "        self.edad = edad\n",
    "    def saludar(self):\n",
    "        print(f\"Hola, me llamo {self.nombre} y tengo {self.edad} años\") # self hace referencia  alos atributos de la clase"
   ]
  },
  {
   "cell_type": "code",
   "execution_count": 75,
   "metadata": {},
   "outputs": [
    {
     "name": "stdout",
     "output_type": "stream",
     "text": [
      "Hola, me llamo Juan y tengo 27 años\n"
     ]
    }
   ],
   "source": [
    "persona1 = Persona(\"Juan\", 27)\n",
    "persona1.nombre\n",
    "persona1.edad\n",
    "persona1.saludar()"
   ]
  },
  {
   "cell_type": "code",
   "execution_count": 52,
   "metadata": {},
   "outputs": [
    {
     "data": {
      "text/plain": [
       "50"
      ]
     },
     "execution_count": 52,
     "metadata": {},
     "output_type": "execute_result"
    }
   ],
   "source": [
    "# funcion lambda  = funcion pequeña y anonima\n",
    "\n",
    "resultado = lambda numero : numero + 30\n",
    "\n",
    "resultado(20)"
   ]
  },
  {
   "cell_type": "code",
   "execution_count": 53,
   "metadata": {},
   "outputs": [
    {
     "data": {
      "text/plain": [
       "40"
      ]
     },
     "execution_count": 53,
     "metadata": {},
     "output_type": "execute_result"
    }
   ],
   "source": [
    "resultado2 = lambda numero1, numero2 : numero1 + numero2\n",
    "\n",
    "resultado2(20,20)"
   ]
  },
  {
   "cell_type": "code",
   "execution_count": 54,
   "metadata": {
    "collapsed": true
   },
   "outputs": [
    {
     "data": {
      "text/plain": [
       "'\\ncrear una clase \"coche\" que tenga esos atributos: marca, color, atributos y cilindradas\\ncrear la fn __init__  que asigne los parametros de la clase a los atributos de la clase\\ncrear otra fn \"mostrar_caracteristicas\" que mediante print muestre por pantalla los atributos del coche\\ncrear obj coche1 que tenga atributos \"Opel\" \"rojo\" \"gasolina\" \"1.6\"\\nejcutar fn mostrar_caracteristicas del objeto coche1\\n\\n'"
      ]
     },
     "execution_count": 54,
     "metadata": {},
     "output_type": "execute_result"
    }
   ],
   "source": [
    "# ejercicio\n",
    "\"\"\"\n",
    "crear una clase \"coche\" que tenga esos atributos: marca, color, combustible y cilindradas\n",
    "crear la fn __init__  que asigne los parametros de la clase a los atributos de la clase\n",
    "crear otra fn \"mostrar_caracteristicas\" que mediante print muestre por pantalla los atributos del coche\n",
    "crear obj coche1 que tenga atributos \"Opel\" \"rojo\" \"gasolina\" \"1.6\"\n",
    "ejcutar fn mostrar_caracteristicas del objeto coche1\n",
    "\n",
    "\"\"\""
   ]
  },
  {
   "cell_type": "code",
   "execution_count": 104,
   "metadata": {},
   "outputs": [],
   "source": [
    "class Coche: \n",
    "    def __init__(self, marca,color,combustible,cilindradas):\n",
    "        self.marca = marca\n",
    "        self.color = color\n",
    "        self.combustible = combustible\n",
    "        self.cilindradas = cilindradas\n",
    "    def mostrar(self):\n",
    "        print(f\" \\n Marca: {self.marca} \\n Color: {self.color} \\n Combustible: {self.combustible} \\n Cilindradas: {self.cilindradas}\")\n",
    "        "
   ]
  },
  {
   "cell_type": "code",
   "execution_count": 105,
   "metadata": {},
   "outputs": [
    {
     "name": "stdout",
     "output_type": "stream",
     "text": [
      " \n",
      " Marca: Opel \n",
      " Color: rojo \n",
      " Combustible: gasolina \n",
      " Cilindradas: 1.6\n"
     ]
    }
   ],
   "source": [
    "coche1 = Coche(\"Opel\", \"rojo\", \"gasolina\", 1.6)\n",
    "coche1.mostrar()"
   ]
  },
  {
   "cell_type": "code",
   "execution_count": 109,
   "metadata": {},
   "outputs": [
    {
     "data": {
      "text/plain": [
       "14.0"
      ]
     },
     "execution_count": 109,
     "metadata": {},
     "output_type": "execute_result"
    }
   ],
   "source": [
    "# ejercicio 2\n",
    "\n",
    "\"\"\"\n",
    "crear una fn que calcule la media de tres notas\n",
    "\n",
    "\"\"\"\n",
    "media = lambda num1, num2, num3 : (num1 + num2 + num3) / 3\n",
    "\n",
    "media(10,20,12)"
   ]
  }
 ],
 "metadata": {
  "kernelspec": {
   "display_name": "Python 3",
   "language": "python",
   "name": "python3"
  },
  "language_info": {
   "codemirror_mode": {
    "name": "ipython",
    "version": 3
   },
   "file_extension": ".py",
   "mimetype": "text/x-python",
   "name": "python",
   "nbconvert_exporter": "python",
   "pygments_lexer": "ipython3",
   "version": "3.8.3"
  }
 },
 "nbformat": 4,
 "nbformat_minor": 4
}
