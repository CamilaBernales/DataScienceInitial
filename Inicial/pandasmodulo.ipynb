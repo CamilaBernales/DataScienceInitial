{
 "cells": [
  {
   "cell_type": "code",
   "execution_count": 2,
   "metadata": {},
   "outputs": [
    {
     "data": {
      "text/plain": [
       "0    3\n",
       "1    5\n",
       "2    7\n",
       "dtype: int64"
      ]
     },
     "execution_count": 2,
     "metadata": {},
     "output_type": "execute_result"
    }
   ],
   "source": [
    "import pandas as pd\n",
    "\n",
    "serie1 = pd.Series([3,5,7])\n",
    "serie1"
   ]
  },
  {
   "cell_type": "code",
   "execution_count": 4,
   "metadata": {},
   "outputs": [
    {
     "data": {
      "text/plain": [
       "mat       8\n",
       "lit       6\n",
       "fisica    9\n",
       "hist      1\n",
       "dtype: int64"
      ]
     },
     "execution_count": 4,
     "metadata": {},
     "output_type": "execute_result"
    }
   ],
   "source": [
    "# crear indices\n",
    "\n",
    "asignaturas = [\"mat\", \"lit\", \"fisica\", \"hist\"]\n",
    "notas = [8,6,9,1]\n",
    "serie_notas_alumno1 = pd.Series(notas, index=asignaturas)\n",
    "serie_notas_alumno1"
   ]
  },
  {
   "cell_type": "code",
   "execution_count": 5,
   "metadata": {},
   "outputs": [
    {
     "data": {
      "text/plain": [
       "6"
      ]
     },
     "execution_count": 5,
     "metadata": {},
     "output_type": "execute_result"
    }
   ],
   "source": [
    "serie_notas_alumno1[\"lit\"]"
   ]
  },
  {
   "cell_type": "code",
   "execution_count": 7,
   "metadata": {},
   "outputs": [
    {
     "data": {
      "text/plain": [
       "mat       8\n",
       "fisica    9\n",
       "dtype: int64"
      ]
     },
     "execution_count": 7,
     "metadata": {},
     "output_type": "execute_result"
    }
   ],
   "source": [
    "serie_notas_alumno1[serie_notas_alumno1 >= 8]"
   ]
  },
  {
   "cell_type": "code",
   "execution_count": 8,
   "metadata": {},
   "outputs": [
    {
     "data": {
      "text/plain": [
       "mat       8\n",
       "lit       6\n",
       "fisica    9\n",
       "hist      1\n",
       "Name: Notas de Daniel, dtype: int64"
      ]
     },
     "execution_count": 8,
     "metadata": {},
     "output_type": "execute_result"
    }
   ],
   "source": [
    "serie_notas_alumno1.name = \"Notas de Daniel\"\n",
    "serie_notas_alumno1"
   ]
  },
  {
   "cell_type": "code",
   "execution_count": 9,
   "metadata": {},
   "outputs": [
    {
     "data": {
      "text/plain": [
       "asignaturas de daniel\n",
       "mat       8\n",
       "lit       6\n",
       "fisica    9\n",
       "hist      1\n",
       "Name: Notas de Daniel, dtype: int64"
      ]
     },
     "execution_count": 9,
     "metadata": {},
     "output_type": "execute_result"
    }
   ],
   "source": [
    "serie_notas_alumno1.index.name = \"asignaturas de daniel\"\n",
    "serie_notas_alumno1"
   ]
  },
  {
   "cell_type": "code",
   "execution_count": 10,
   "metadata": {},
   "outputs": [
    {
     "data": {
      "text/plain": [
       "{'mat': 8, 'lit': 6, 'fisica': 9, 'hist': 1}"
      ]
     },
     "execution_count": 10,
     "metadata": {},
     "output_type": "execute_result"
    }
   ],
   "source": [
    "diccionario = serie_notas_alumno1.to_dict() # convierte a diccionario\n",
    "diccionario"
   ]
  },
  {
   "cell_type": "code",
   "execution_count": 11,
   "metadata": {},
   "outputs": [],
   "source": [
    "serie = pd.Series(diccionario)"
   ]
  },
  {
   "cell_type": "code",
   "execution_count": 12,
   "metadata": {},
   "outputs": [
    {
     "data": {
      "text/plain": [
       "mat       8\n",
       "lit       6\n",
       "fisica    9\n",
       "hist      1\n",
       "dtype: int64"
      ]
     },
     "execution_count": 12,
     "metadata": {},
     "output_type": "execute_result"
    }
   ],
   "source": [
    "serie"
   ]
  },
  {
   "cell_type": "code",
   "execution_count": 13,
   "metadata": {},
   "outputs": [
    {
     "data": {
      "text/plain": [
       "mat       10\n",
       "lit       10\n",
       "fisica    10\n",
       "hist       9\n",
       "dtype: int64"
      ]
     },
     "execution_count": 13,
     "metadata": {},
     "output_type": "execute_result"
    }
   ],
   "source": [
    "notas_alumno2 = [10,10,10,9]\n",
    "serie_notas_alumno2 = pd.Series(notas_alumno2, index=asignaturas)\n",
    "serie_notas_alumno2 "
   ]
  },
  {
   "cell_type": "code",
   "execution_count": 14,
   "metadata": {},
   "outputs": [],
   "source": [
    "serie_notas_clase = (serie_notas_alumno1 + serie_notas_alumno2 ) / 2"
   ]
  },
  {
   "cell_type": "code",
   "execution_count": 15,
   "metadata": {},
   "outputs": [
    {
     "data": {
      "text/plain": [
       "asignaturas de daniel\n",
       "mat       9.0\n",
       "lit       8.0\n",
       "fisica    9.5\n",
       "hist      5.0\n",
       "dtype: float64"
      ]
     },
     "execution_count": 15,
     "metadata": {},
     "output_type": "execute_result"
    }
   ],
   "source": [
    "serie_notas_clase"
   ]
  },
  {
   "cell_type": "code",
   "execution_count": 29,
   "metadata": {},
   "outputs": [
    {
     "data": {
      "text/plain": [
       "True"
      ]
     },
     "execution_count": 29,
     "metadata": {},
     "output_type": "execute_result"
    }
   ],
   "source": [
    "# dataframes\n",
    "\n",
    "import webbrowser\n",
    "\n",
    "website = 'https://es.wikipedia.org/wiki/Anexo:Campeones_de_la_NBA'\n",
    "webbrowser.open(website)"
   ]
  },
  {
   "cell_type": "code",
   "execution_count": 28,
   "metadata": {},
   "outputs": [],
   "source": [
    "dataframe_nba = pd.read_clipboard()"
   ]
  },
  {
   "cell_type": "code",
   "execution_count": null,
   "metadata": {},
   "outputs": [],
   "source": []
  },
  {
   "cell_type": "code",
   "execution_count": 19,
   "metadata": {},
   "outputs": [
    {
     "data": {
      "text/plain": [
       "Index(['1950', 'Minneapolis Lakersn. 2​', '4–2', 'Syracuse Nationals†',\n",
       "       '19​18​'],\n",
       "      dtype='object')"
      ]
     },
     "execution_count": 19,
     "metadata": {},
     "output_type": "execute_result"
    }
   ],
   "source": [
    "dataframe_nba.columns"
   ]
  },
  {
   "cell_type": "code",
   "execution_count": 30,
   "metadata": {
    "scrolled": true
   },
   "outputs": [
    {
     "data": {
      "text/html": [
       "<div>\n",
       "<style scoped>\n",
       "    .dataframe tbody tr th:only-of-type {\n",
       "        vertical-align: middle;\n",
       "    }\n",
       "\n",
       "    .dataframe tbody tr th {\n",
       "        vertical-align: top;\n",
       "    }\n",
       "\n",
       "    .dataframe thead th {\n",
       "        text-align: right;\n",
       "    }\n",
       "</style>\n",
       "<table border=\"1\" class=\"dataframe\">\n",
       "  <thead>\n",
       "    <tr style=\"text-align: right;\">\n",
       "      <th></th>\n",
       "      <th>Año</th>\n",
       "      <th>Campeón</th>\n",
       "      <th>del</th>\n",
       "      <th>Oeste</th>\n",
       "      <th>Resultado</th>\n",
       "      <th>Campeón.1</th>\n",
       "      <th>del.1</th>\n",
       "      <th>Este</th>\n",
       "      <th>Ref.</th>\n",
       "    </tr>\n",
       "  </thead>\n",
       "  <tbody>\n",
       "    <tr>\n",
       "      <th>0</th>\n",
       "      <td>1950</td>\n",
       "      <td>Minneapolis</td>\n",
       "      <td>Lakersn.</td>\n",
       "      <td>2​</td>\n",
       "      <td>4–2</td>\n",
       "      <td>Syracuse</td>\n",
       "      <td>Nationals†</td>\n",
       "      <td>19​18​</td>\n",
       "      <td>NaN</td>\n",
       "    </tr>\n",
       "    <tr>\n",
       "      <th>1</th>\n",
       "      <td>1951</td>\n",
       "      <td>Rochester</td>\n",
       "      <td>Royals</td>\n",
       "      <td>4–3</td>\n",
       "      <td>New</td>\n",
       "      <td>York</td>\n",
       "      <td>Knicks</td>\n",
       "      <td>20​</td>\n",
       "      <td>NaN</td>\n",
       "    </tr>\n",
       "    <tr>\n",
       "      <th>2</th>\n",
       "      <td>1952</td>\n",
       "      <td>Minneapolis</td>\n",
       "      <td>Lakers</td>\n",
       "      <td>4–3</td>\n",
       "      <td>New</td>\n",
       "      <td>York</td>\n",
       "      <td>Knicks</td>\n",
       "      <td>21​</td>\n",
       "      <td>NaN</td>\n",
       "    </tr>\n",
       "    <tr>\n",
       "      <th>3</th>\n",
       "      <td>1953</td>\n",
       "      <td>Minneapolis</td>\n",
       "      <td>Lakers†</td>\n",
       "      <td>4–1</td>\n",
       "      <td>New</td>\n",
       "      <td>York</td>\n",
       "      <td>Knicks</td>\n",
       "      <td>22​</td>\n",
       "      <td>NaN</td>\n",
       "    </tr>\n",
       "    <tr>\n",
       "      <th>4</th>\n",
       "      <td>1954</td>\n",
       "      <td>Minneapolis</td>\n",
       "      <td>Lakers†</td>\n",
       "      <td>4–3</td>\n",
       "      <td>Syracuse</td>\n",
       "      <td>Nationals</td>\n",
       "      <td>23​</td>\n",
       "      <td>None</td>\n",
       "      <td>NaN</td>\n",
       "    </tr>\n",
       "    <tr>\n",
       "      <th>5</th>\n",
       "      <td>1955</td>\n",
       "      <td>Ft.</td>\n",
       "      <td>Wayne</td>\n",
       "      <td>Pistons</td>\n",
       "      <td>3–4</td>\n",
       "      <td>Syracuse</td>\n",
       "      <td>Nationals†</td>\n",
       "      <td>24​</td>\n",
       "      <td>NaN</td>\n",
       "    </tr>\n",
       "  </tbody>\n",
       "</table>\n",
       "</div>"
      ],
      "text/plain": [
       "    Año      Campeón       del    Oeste Resultado  Campeón.1       del.1  \\\n",
       "0  1950  Minneapolis  Lakersn.       2​       4–2   Syracuse  Nationals†   \n",
       "1  1951    Rochester    Royals      4–3       New       York      Knicks   \n",
       "2  1952  Minneapolis    Lakers      4–3       New       York      Knicks   \n",
       "3  1953  Minneapolis   Lakers†      4–1       New       York      Knicks   \n",
       "4  1954  Minneapolis   Lakers†      4–3  Syracuse  Nationals         23​   \n",
       "5  1955          Ft.     Wayne  Pistons       3–4   Syracuse  Nationals†   \n",
       "\n",
       "     Este  Ref.  \n",
       "0  19​18​   NaN  \n",
       "1     20​   NaN  \n",
       "2     21​   NaN  \n",
       "3     22​   NaN  \n",
       "4    None   NaN  \n",
       "5     24​   NaN  "
      ]
     },
     "execution_count": 30,
     "metadata": {},
     "output_type": "execute_result"
    }
   ],
   "source": [
    "dataframe_nba.head(6) # los primeros seis"
   ]
  },
  {
   "cell_type": "code",
   "execution_count": 32,
   "metadata": {},
   "outputs": [
    {
     "data": {
      "text/html": [
       "<div>\n",
       "<style scoped>\n",
       "    .dataframe tbody tr th:only-of-type {\n",
       "        vertical-align: middle;\n",
       "    }\n",
       "\n",
       "    .dataframe tbody tr th {\n",
       "        vertical-align: top;\n",
       "    }\n",
       "\n",
       "    .dataframe thead th {\n",
       "        text-align: right;\n",
       "    }\n",
       "</style>\n",
       "<table border=\"1\" class=\"dataframe\">\n",
       "  <thead>\n",
       "    <tr style=\"text-align: right;\">\n",
       "      <th></th>\n",
       "      <th>Año</th>\n",
       "      <th>Campeón</th>\n",
       "      <th>del</th>\n",
       "      <th>Oeste</th>\n",
       "      <th>Resultado</th>\n",
       "      <th>Campeón.1</th>\n",
       "      <th>del.1</th>\n",
       "      <th>Este</th>\n",
       "      <th>Ref.</th>\n",
       "    </tr>\n",
       "  </thead>\n",
       "  <tbody>\n",
       "    <tr>\n",
       "      <th>9</th>\n",
       "      <td>1959</td>\n",
       "      <td>Minneapolis</td>\n",
       "      <td>Lakers</td>\n",
       "      <td>0–4</td>\n",
       "      <td>Boston</td>\n",
       "      <td>Celtics†</td>\n",
       "      <td>28​</td>\n",
       "      <td>None</td>\n",
       "      <td>NaN</td>\n",
       "    </tr>\n",
       "    <tr>\n",
       "      <th>10</th>\n",
       "      <td>1960</td>\n",
       "      <td>St.</td>\n",
       "      <td>Louis</td>\n",
       "      <td>Hawks</td>\n",
       "      <td>3–4</td>\n",
       "      <td>Boston</td>\n",
       "      <td>Celtics†</td>\n",
       "      <td>29​</td>\n",
       "      <td>NaN</td>\n",
       "    </tr>\n",
       "    <tr>\n",
       "      <th>11</th>\n",
       "      <td>1961</td>\n",
       "      <td>St.</td>\n",
       "      <td>Louis</td>\n",
       "      <td>Hawks</td>\n",
       "      <td>1–4</td>\n",
       "      <td>Boston</td>\n",
       "      <td>Celtics†</td>\n",
       "      <td>30​</td>\n",
       "      <td>NaN</td>\n",
       "    </tr>\n",
       "    <tr>\n",
       "      <th>12</th>\n",
       "      <td>1962</td>\n",
       "      <td>Los</td>\n",
       "      <td>Angeles</td>\n",
       "      <td>Lakers</td>\n",
       "      <td>3–4</td>\n",
       "      <td>Boston</td>\n",
       "      <td>Celtics†</td>\n",
       "      <td>31​</td>\n",
       "      <td>NaN</td>\n",
       "    </tr>\n",
       "    <tr>\n",
       "      <th>13</th>\n",
       "      <td>1963</td>\n",
       "      <td>Los</td>\n",
       "      <td>Angeles</td>\n",
       "      <td>Lakers</td>\n",
       "      <td>2–4</td>\n",
       "      <td>Boston</td>\n",
       "      <td>Celtics†</td>\n",
       "      <td>32​</td>\n",
       "      <td>NaN</td>\n",
       "    </tr>\n",
       "  </tbody>\n",
       "</table>\n",
       "</div>"
      ],
      "text/plain": [
       "     Año      Campeón      del   Oeste Resultado Campeón.1     del.1  Este  \\\n",
       "9   1959  Minneapolis   Lakers     0–4    Boston  Celtics†       28​  None   \n",
       "10  1960          St.    Louis   Hawks       3–4    Boston  Celtics†   29​   \n",
       "11  1961          St.    Louis   Hawks       1–4    Boston  Celtics†   30​   \n",
       "12  1962          Los  Angeles  Lakers       3–4    Boston  Celtics†   31​   \n",
       "13  1963          Los  Angeles  Lakers       2–4    Boston  Celtics†   32​   \n",
       "\n",
       "    Ref.  \n",
       "9    NaN  \n",
       "10   NaN  \n",
       "11   NaN  \n",
       "12   NaN  \n",
       "13   NaN  "
      ]
     },
     "execution_count": 32,
     "metadata": {},
     "output_type": "execute_result"
    }
   ],
   "source": [
    "dataframe_nba.tail()  # cinco ultimos"
   ]
  },
  {
   "cell_type": "code",
   "execution_count": 36,
   "metadata": {},
   "outputs": [
    {
     "data": {
      "text/plain": [
       "Año                1955\n",
       "Campeón             Ft.\n",
       "del               Wayne\n",
       "Oeste           Pistons\n",
       "Resultado           3–4\n",
       "Campeón.1      Syracuse\n",
       "del.1        Nationals†\n",
       "Este                24​\n",
       "Ref.                NaN\n",
       "Name: 5, dtype: object"
      ]
     },
     "execution_count": 36,
     "metadata": {},
     "output_type": "execute_result"
    }
   ],
   "source": [
    "dataframe_nba.loc[5] # resultados en indice 5, fila 5"
   ]
  },
  {
   "cell_type": "code",
   "execution_count": 37,
   "metadata": {},
   "outputs": [
    {
     "data": {
      "text/html": [
       "<div>\n",
       "<style scoped>\n",
       "    .dataframe tbody tr th:only-of-type {\n",
       "        vertical-align: middle;\n",
       "    }\n",
       "\n",
       "    .dataframe tbody tr th {\n",
       "        vertical-align: top;\n",
       "    }\n",
       "\n",
       "    .dataframe thead th {\n",
       "        text-align: right;\n",
       "    }\n",
       "</style>\n",
       "<table border=\"1\" class=\"dataframe\">\n",
       "  <thead>\n",
       "    <tr style=\"text-align: right;\">\n",
       "      <th></th>\n",
       "      <th>Año</th>\n",
       "      <th>Campeón</th>\n",
       "      <th>del</th>\n",
       "      <th>Oeste</th>\n",
       "      <th>Resultado</th>\n",
       "      <th>Campeón.1</th>\n",
       "      <th>del.1</th>\n",
       "      <th>Este</th>\n",
       "      <th>Ref.</th>\n",
       "    </tr>\n",
       "  </thead>\n",
       "  <tbody>\n",
       "    <tr>\n",
       "      <th>12</th>\n",
       "      <td>1962</td>\n",
       "      <td>Los</td>\n",
       "      <td>Angeles</td>\n",
       "      <td>Lakers</td>\n",
       "      <td>3–4</td>\n",
       "      <td>Boston</td>\n",
       "      <td>Celtics†</td>\n",
       "      <td>31​</td>\n",
       "      <td>NaN</td>\n",
       "    </tr>\n",
       "    <tr>\n",
       "      <th>13</th>\n",
       "      <td>1963</td>\n",
       "      <td>Los</td>\n",
       "      <td>Angeles</td>\n",
       "      <td>Lakers</td>\n",
       "      <td>2–4</td>\n",
       "      <td>Boston</td>\n",
       "      <td>Celtics†</td>\n",
       "      <td>32​</td>\n",
       "      <td>NaN</td>\n",
       "    </tr>\n",
       "  </tbody>\n",
       "</table>\n",
       "</div>"
      ],
      "text/plain": [
       "     Año Campeón      del   Oeste Resultado Campeón.1     del.1 Este  Ref.\n",
       "12  1962     Los  Angeles  Lakers       3–4    Boston  Celtics†  31​   NaN\n",
       "13  1963     Los  Angeles  Lakers       2–4    Boston  Celtics†  32​   NaN"
      ]
     },
     "execution_count": 37,
     "metadata": {},
     "output_type": "execute_result"
    }
   ],
   "source": [
    "dataframe_nba.tail(2) "
   ]
  },
  {
   "cell_type": "code",
   "execution_count": 44,
   "metadata": {},
   "outputs": [
    {
     "data": {
      "text/html": [
       "<div>\n",
       "<style scoped>\n",
       "    .dataframe tbody tr th:only-of-type {\n",
       "        vertical-align: middle;\n",
       "    }\n",
       "\n",
       "    .dataframe tbody tr th {\n",
       "        vertical-align: top;\n",
       "    }\n",
       "\n",
       "    .dataframe thead th {\n",
       "        text-align: right;\n",
       "    }\n",
       "</style>\n",
       "<table border=\"1\" class=\"dataframe\">\n",
       "  <thead>\n",
       "    <tr style=\"text-align: right;\">\n",
       "      <th></th>\n",
       "      <th>Asignaturas</th>\n",
       "      <th>Notas</th>\n",
       "    </tr>\n",
       "  </thead>\n",
       "  <tbody>\n",
       "    <tr>\n",
       "      <th>0</th>\n",
       "      <td>mat</td>\n",
       "      <td>1</td>\n",
       "    </tr>\n",
       "    <tr>\n",
       "      <th>1</th>\n",
       "      <td>hist</td>\n",
       "      <td>3</td>\n",
       "    </tr>\n",
       "    <tr>\n",
       "      <th>2</th>\n",
       "      <td>fisi</td>\n",
       "      <td>4</td>\n",
       "    </tr>\n",
       "    <tr>\n",
       "      <th>3</th>\n",
       "      <td>lit</td>\n",
       "      <td>5</td>\n",
       "    </tr>\n",
       "  </tbody>\n",
       "</table>\n",
       "</div>"
      ],
      "text/plain": [
       "  Asignaturas  Notas\n",
       "0         mat      1\n",
       "1        hist      3\n",
       "2        fisi      4\n",
       "3         lit      5"
      ]
     },
     "execution_count": 44,
     "metadata": {},
     "output_type": "execute_result"
    }
   ],
   "source": [
    "lista_asignaturas = [\"mat\", \"hist\", \"fisi\", \"lit\"]\n",
    "lista_notas = [1,3,4,5]\n",
    "diccionario = {'Asignaturas':lista_asignaturas, \"Notas\":lista_notas}\n",
    "diccionario\n",
    "dataframe_notas = pd.DataFrame(diccionario)\n",
    "dataframe_notas"
   ]
  },
  {
   "cell_type": "code",
   "execution_count": 45,
   "metadata": {},
   "outputs": [
    {
     "data": {
      "text/plain": [
       "a    1\n",
       "b    2\n",
       "c    3\n",
       "dtype: int64"
      ]
     },
     "execution_count": 45,
     "metadata": {},
     "output_type": "execute_result"
    }
   ],
   "source": [
    "# indices\n",
    "\n",
    "lista_valores = [1,2,3]\n",
    "lista_indices = ['a','b','c']\n",
    "serie = pd.Series(lista_valores,lista_indices)\n",
    "serie"
   ]
  },
  {
   "cell_type": "code",
   "execution_count": 46,
   "metadata": {},
   "outputs": [
    {
     "data": {
      "text/plain": [
       "'a'"
      ]
     },
     "execution_count": 46,
     "metadata": {},
     "output_type": "execute_result"
    }
   ],
   "source": [
    "serie.index[0]"
   ]
  },
  {
   "cell_type": "code",
   "execution_count": 48,
   "metadata": {},
   "outputs": [
    {
     "data": {
      "text/html": [
       "<div>\n",
       "<style scoped>\n",
       "    .dataframe tbody tr th:only-of-type {\n",
       "        vertical-align: middle;\n",
       "    }\n",
       "\n",
       "    .dataframe tbody tr th {\n",
       "        vertical-align: top;\n",
       "    }\n",
       "\n",
       "    .dataframe thead th {\n",
       "        text-align: right;\n",
       "    }\n",
       "</style>\n",
       "<table border=\"1\" class=\"dataframe\">\n",
       "  <thead>\n",
       "    <tr style=\"text-align: right;\">\n",
       "      <th></th>\n",
       "      <th>ana</th>\n",
       "      <th>pedro</th>\n",
       "      <th>marco</th>\n",
       "    </tr>\n",
       "  </thead>\n",
       "  <tbody>\n",
       "    <tr>\n",
       "      <th>mat</th>\n",
       "      <td>1</td>\n",
       "      <td>2</td>\n",
       "      <td>3</td>\n",
       "    </tr>\n",
       "    <tr>\n",
       "      <th>hist</th>\n",
       "      <td>9</td>\n",
       "      <td>8</td>\n",
       "      <td>3</td>\n",
       "    </tr>\n",
       "    <tr>\n",
       "      <th>lengua</th>\n",
       "      <td>6</td>\n",
       "      <td>8</td>\n",
       "      <td>2</td>\n",
       "    </tr>\n",
       "  </tbody>\n",
       "</table>\n",
       "</div>"
      ],
      "text/plain": [
       "        ana  pedro  marco\n",
       "mat       1      2      3\n",
       "hist      9      8      3\n",
       "lengua    6      8      2"
      ]
     },
     "execution_count": 48,
     "metadata": {},
     "output_type": "execute_result"
    }
   ],
   "source": [
    "lista_valores = [[1,2,3], [9,8,3], [6,8,2]]\n",
    "lista_indices =[\"mat\", \"hist\", \"lengua\"]\n",
    "lista_nombre = [\"ana\", \"pedro\", \"marco\"]\n",
    "dataframe = pd.DataFrame(lista_valores, index=lista_indices, columns = lista_nombre)\n",
    "dataframe"
   ]
  },
  {
   "cell_type": "code",
   "execution_count": 49,
   "metadata": {},
   "outputs": [],
   "source": [
    "# eliminar eelemntos en series\n",
    "\n",
    "import numpy as np"
   ]
  },
  {
   "cell_type": "code",
   "execution_count": 50,
   "metadata": {},
   "outputs": [
    {
     "data": {
      "text/plain": [
       "array([0, 1, 2, 3])"
      ]
     },
     "execution_count": 50,
     "metadata": {},
     "output_type": "execute_result"
    }
   ],
   "source": [
    "np.arange(4)"
   ]
  },
  {
   "cell_type": "code",
   "execution_count": 51,
   "metadata": {},
   "outputs": [],
   "source": [
    "serie = pd.Series(np.arange(4), index=['a', 'b', 'c', 'd'])"
   ]
  },
  {
   "cell_type": "code",
   "execution_count": 52,
   "metadata": {},
   "outputs": [
    {
     "data": {
      "text/plain": [
       "a    0\n",
       "b    1\n",
       "c    2\n",
       "d    3\n",
       "dtype: int32"
      ]
     },
     "execution_count": 52,
     "metadata": {},
     "output_type": "execute_result"
    }
   ],
   "source": [
    "serie"
   ]
  },
  {
   "cell_type": "code",
   "execution_count": 53,
   "metadata": {},
   "outputs": [
    {
     "data": {
      "text/plain": [
       "a    0\n",
       "b    1\n",
       "d    3\n",
       "dtype: int32"
      ]
     },
     "execution_count": 53,
     "metadata": {},
     "output_type": "execute_result"
    }
   ],
   "source": [
    "serie.drop('c')"
   ]
  },
  {
   "cell_type": "code",
   "execution_count": 59,
   "metadata": {
    "scrolled": true
   },
   "outputs": [
    {
     "data": {
      "text/html": [
       "<div>\n",
       "<style scoped>\n",
       "    .dataframe tbody tr th:only-of-type {\n",
       "        vertical-align: middle;\n",
       "    }\n",
       "\n",
       "    .dataframe tbody tr th {\n",
       "        vertical-align: top;\n",
       "    }\n",
       "\n",
       "    .dataframe thead th {\n",
       "        text-align: right;\n",
       "    }\n",
       "</style>\n",
       "<table border=\"1\" class=\"dataframe\">\n",
       "  <thead>\n",
       "    <tr style=\"text-align: right;\">\n",
       "      <th></th>\n",
       "      <th>c1</th>\n",
       "      <th>c3</th>\n",
       "    </tr>\n",
       "  </thead>\n",
       "  <tbody>\n",
       "    <tr>\n",
       "      <th>a</th>\n",
       "      <td>0</td>\n",
       "      <td>2</td>\n",
       "    </tr>\n",
       "    <tr>\n",
       "      <th>b</th>\n",
       "      <td>3</td>\n",
       "      <td>5</td>\n",
       "    </tr>\n",
       "    <tr>\n",
       "      <th>c</th>\n",
       "      <td>6</td>\n",
       "      <td>8</td>\n",
       "    </tr>\n",
       "  </tbody>\n",
       "</table>\n",
       "</div>"
      ],
      "text/plain": [
       "   c1  c3\n",
       "a   0   2\n",
       "b   3   5\n",
       "c   6   8"
      ]
     },
     "execution_count": 59,
     "metadata": {},
     "output_type": "execute_result"
    }
   ],
   "source": [
    "lista_valores = np.arange(9).reshape(3,3)\n",
    "lista_indices = ['a', 'b', 'c']\n",
    "lista_columnas = ['c1', 'c2', 'c3']\n",
    "dataframe = pd.DataFrame(lista_valores, index=lista_indices, columns = lista_columnas)\n",
    "dataframe.drop('b')\n",
    "dataframe.drop('c2', axis=1)"
   ]
  },
  {
   "cell_type": "code",
   "execution_count": 78,
   "metadata": {},
   "outputs": [
    {
     "data": {
      "text/plain": [
       "a    0\n",
       "b    2\n",
       "c    6\n",
       "dtype: int32"
      ]
     },
     "execution_count": 78,
     "metadata": {},
     "output_type": "execute_result"
    }
   ],
   "source": [
    "# seleccionar datos en las series\n",
    "\n",
    "lista_valores = np.arange(3)\n",
    "lista_indices = ['a', 'b', 'c']\n",
    "serie = pd.Series(lista_valores, index=lista_indices)\n",
    "serie = serie * 2\n",
    "serie[2]\n",
    "serie[0:2]\n",
    "serie[0:3]\n",
    "serie['a':'c']\n",
    "serie[serie > 3] = 6\n",
    "serie\n"
   ]
  },
  {
   "cell_type": "code",
   "execution_count": 95,
   "metadata": {},
   "outputs": [
    {
     "data": {
      "text/html": [
       "<div>\n",
       "<style scoped>\n",
       "    .dataframe tbody tr th:only-of-type {\n",
       "        vertical-align: middle;\n",
       "    }\n",
       "\n",
       "    .dataframe tbody tr th {\n",
       "        vertical-align: top;\n",
       "    }\n",
       "\n",
       "    .dataframe thead th {\n",
       "        text-align: right;\n",
       "    }\n",
       "</style>\n",
       "<table border=\"1\" class=\"dataframe\">\n",
       "  <thead>\n",
       "    <tr style=\"text-align: right;\">\n",
       "      <th></th>\n",
       "      <th>a</th>\n",
       "      <th>b</th>\n",
       "      <th>c</th>\n",
       "      <th>d</th>\n",
       "      <th>e</th>\n",
       "    </tr>\n",
       "  </thead>\n",
       "  <tbody>\n",
       "    <tr>\n",
       "      <th>a</th>\n",
       "      <td>0</td>\n",
       "      <td>1</td>\n",
       "      <td>2</td>\n",
       "      <td>3</td>\n",
       "      <td>4</td>\n",
       "    </tr>\n",
       "    <tr>\n",
       "      <th>b</th>\n",
       "      <td>5</td>\n",
       "      <td>6</td>\n",
       "      <td>7</td>\n",
       "      <td>8</td>\n",
       "      <td>9</td>\n",
       "    </tr>\n",
       "    <tr>\n",
       "      <th>c</th>\n",
       "      <td>10</td>\n",
       "      <td>11</td>\n",
       "      <td>12</td>\n",
       "      <td>13</td>\n",
       "      <td>14</td>\n",
       "    </tr>\n",
       "    <tr>\n",
       "      <th>d</th>\n",
       "      <td>15</td>\n",
       "      <td>16</td>\n",
       "      <td>17</td>\n",
       "      <td>18</td>\n",
       "      <td>19</td>\n",
       "    </tr>\n",
       "    <tr>\n",
       "      <th>e</th>\n",
       "      <td>20</td>\n",
       "      <td>21</td>\n",
       "      <td>22</td>\n",
       "      <td>23</td>\n",
       "      <td>24</td>\n",
       "    </tr>\n",
       "  </tbody>\n",
       "</table>\n",
       "</div>"
      ],
      "text/plain": [
       "    a   b   c   d   e\n",
       "a   0   1   2   3   4\n",
       "b   5   6   7   8   9\n",
       "c  10  11  12  13  14\n",
       "d  15  16  17  18  19\n",
       "e  20  21  22  23  24"
      ]
     },
     "execution_count": 95,
     "metadata": {},
     "output_type": "execute_result"
    }
   ],
   "source": [
    "# seleccionando entradas para el dataframe\n",
    "\n",
    "lista_valores = np.arange(25).reshape(5,5)\n",
    "lista_indices = ['a', 'b', 'c', 'd', 'e']\n",
    "lista_columnas = ['a', 'b', 'c', 'd', 'e']\n",
    "dataframe = pd.DataFrame(lista_valores, lista_indices, lista_columnas)\n",
    "dataframe['c']['d']\n",
    "dataframe[['c','d']] # columnas c y d\n",
    "dataframe > 20\n",
    "dataframe\n",
    "dataframe.loc['a']['b'] # fila y columna"
   ]
  },
  {
   "cell_type": "code",
   "execution_count": 104,
   "metadata": {},
   "outputs": [
    {
     "data": {
      "text/plain": [
       "0    0.188266\n",
       "1    0.166703\n",
       "2    0.096714\n",
       "3   -1.097143\n",
       "4    0.372998\n",
       "5    0.596266\n",
       "6    0.595025\n",
       "7   -0.130800\n",
       "8    0.415240\n",
       "9   -0.363384\n",
       "dtype: float64"
      ]
     },
     "execution_count": 104,
     "metadata": {},
     "output_type": "execute_result"
    }
   ],
   "source": [
    "# ordenaciion y clasificacion\n",
    "\n",
    "lista = range(4)\n",
    "indices = list('CABD')\n",
    "serie  = pd.Series(lista, index=indices)\n",
    "serie.sort_index()\n",
    "serie.sort_values()\n",
    "serie.rank()\n",
    "\n",
    "serie2 = pd.Series(np.random.randn(10))\n",
    "serie2"
   ]
  },
  {
   "cell_type": "code",
   "execution_count": 105,
   "metadata": {},
   "outputs": [
    {
     "data": {
      "text/plain": [
       "0     6.0\n",
       "1     5.0\n",
       "2     4.0\n",
       "3     1.0\n",
       "4     7.0\n",
       "5    10.0\n",
       "6     9.0\n",
       "7     3.0\n",
       "8     8.0\n",
       "9     2.0\n",
       "dtype: float64"
      ]
     },
     "execution_count": 105,
     "metadata": {},
     "output_type": "execute_result"
    }
   ],
   "source": [
    "serie2.rank()"
   ]
  },
  {
   "cell_type": "code",
   "execution_count": null,
   "metadata": {},
   "outputs": [],
   "source": []
  }
 ],
 "metadata": {
  "kernelspec": {
   "display_name": "Python 3",
   "language": "python",
   "name": "python3"
  },
  "language_info": {
   "codemirror_mode": {
    "name": "ipython",
    "version": 3
   },
   "file_extension": ".py",
   "mimetype": "text/x-python",
   "name": "python",
   "nbconvert_exporter": "python",
   "pygments_lexer": "ipython3",
   "version": "3.8.3"
  }
 },
 "nbformat": 4,
 "nbformat_minor": 4
}
